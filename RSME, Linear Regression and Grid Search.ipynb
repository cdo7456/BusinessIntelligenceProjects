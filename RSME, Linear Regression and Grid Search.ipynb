{
  "nbformat": 4,
  "nbformat_minor": 0,
  "metadata": {
    "colab": {
      "provenance": [],
      "mount_file_id": "1DQfXYEkOQOOA-AEZXgS3IiIDwquP7ozL",
      "authorship_tag": "ABX9TyONLkp5IOIU5EDu4D1B2kjy",
      "include_colab_link": true
    },
    "kernelspec": {
      "name": "python3",
      "display_name": "Python 3"
    },
    "language_info": {
      "name": "python"
    }
  },
  "cells": [
    {
      "cell_type": "markdown",
      "metadata": {
        "id": "view-in-github",
        "colab_type": "text"
      },
      "source": [
        "<a href=\"https://colab.research.google.com/github/cdo7456/BusinessIntelligenceProjects/blob/main/RSME%2C%20Linear%20Regression%20and%20Grid%20Search.ipynb\" target=\"_parent\"><img src=\"https://colab.research.google.com/assets/colab-badge.svg\" alt=\"Open In Colab\"/></a>"
      ]
    },
    {
      "cell_type": "markdown",
      "source": [
        "###Data Cleaning, Description and Preparation"
      ],
      "metadata": {
        "id": "DmmUj3ivUaVK"
      }
    },
    {
      "cell_type": "code",
      "source": [
        "# Importing the libraries\n",
        "import pandas as pd\n",
        "import numpy as np\n",
        "import seaborn as sns\n",
        "import matplotlib.pyplot as plt\n",
        "\n",
        "# Importing 'Cancer' dataset\n",
        "path = pd.read_csv('/content/drive/MyDrive/MGIS 355 (Spring 2023)/datasets/Cancer.csv')\n",
        "cancer_df = path"
      ],
      "metadata": {
        "id": "msSSLwsmUUZH"
      },
      "execution_count": null,
      "outputs": []
    },
    {
      "cell_type": "code",
      "source": [
        "path.head()"
      ],
      "metadata": {
        "colab": {
          "base_uri": "https://localhost:8080/",
          "height": 353
        },
        "id": "hyvZH5IcWWle",
        "outputId": "6dea9c92-e979-4145-c7f3-185ea72f4011"
      },
      "execution_count": null,
      "outputs": [
        {
          "output_type": "execute_result",
          "data": {
            "text/plain": [
              "   countyCode State  PovertyEst  medIncome            Name  popEst2015  \\\n",
              "0        1001    AL        7204      54366  Autauga County       55347   \n",
              "1        1003    AL       25696      49626  Baldwin County      203709   \n",
              "2        1005    AL        5943      34971  Barbour County       26489   \n",
              "3        1007    AL        3666      39546     Bibb County       22583   \n",
              "4        1009    AL       10000      45567   Blount County       57673   \n",
              "\n",
              "   incidenceRate  avgAnnCount recentTrend fiveYearTrend  deathRate  \\\n",
              "0          475.0        266.0      stable          -0.5      178.3   \n",
              "1          454.6       1072.0      stable          -1.3      174.3   \n",
              "2          477.5        155.0      stable          -1.4      192.7   \n",
              "3          494.6        125.0      stable           3.3      212.4   \n",
              "4          429.9        291.0      stable          -1.7      175.4   \n",
              "\n",
              "   avgDeathsPerYear recTrend  \n",
              "0                99  falling  \n",
              "1               424  falling  \n",
              "2                62  falling  \n",
              "3                53   stable  \n",
              "4               120  falling  "
            ],
            "text/html": [
              "\n",
              "  <div id=\"df-cce1b3ae-60b7-43ef-828d-bf1904780433\">\n",
              "    <div class=\"colab-df-container\">\n",
              "      <div>\n",
              "<style scoped>\n",
              "    .dataframe tbody tr th:only-of-type {\n",
              "        vertical-align: middle;\n",
              "    }\n",
              "\n",
              "    .dataframe tbody tr th {\n",
              "        vertical-align: top;\n",
              "    }\n",
              "\n",
              "    .dataframe thead th {\n",
              "        text-align: right;\n",
              "    }\n",
              "</style>\n",
              "<table border=\"1\" class=\"dataframe\">\n",
              "  <thead>\n",
              "    <tr style=\"text-align: right;\">\n",
              "      <th></th>\n",
              "      <th>countyCode</th>\n",
              "      <th>State</th>\n",
              "      <th>PovertyEst</th>\n",
              "      <th>medIncome</th>\n",
              "      <th>Name</th>\n",
              "      <th>popEst2015</th>\n",
              "      <th>incidenceRate</th>\n",
              "      <th>avgAnnCount</th>\n",
              "      <th>recentTrend</th>\n",
              "      <th>fiveYearTrend</th>\n",
              "      <th>deathRate</th>\n",
              "      <th>avgDeathsPerYear</th>\n",
              "      <th>recTrend</th>\n",
              "    </tr>\n",
              "  </thead>\n",
              "  <tbody>\n",
              "    <tr>\n",
              "      <th>0</th>\n",
              "      <td>1001</td>\n",
              "      <td>AL</td>\n",
              "      <td>7204</td>\n",
              "      <td>54366</td>\n",
              "      <td>Autauga County</td>\n",
              "      <td>55347</td>\n",
              "      <td>475.0</td>\n",
              "      <td>266.0</td>\n",
              "      <td>stable</td>\n",
              "      <td>-0.5</td>\n",
              "      <td>178.3</td>\n",
              "      <td>99</td>\n",
              "      <td>falling</td>\n",
              "    </tr>\n",
              "    <tr>\n",
              "      <th>1</th>\n",
              "      <td>1003</td>\n",
              "      <td>AL</td>\n",
              "      <td>25696</td>\n",
              "      <td>49626</td>\n",
              "      <td>Baldwin County</td>\n",
              "      <td>203709</td>\n",
              "      <td>454.6</td>\n",
              "      <td>1072.0</td>\n",
              "      <td>stable</td>\n",
              "      <td>-1.3</td>\n",
              "      <td>174.3</td>\n",
              "      <td>424</td>\n",
              "      <td>falling</td>\n",
              "    </tr>\n",
              "    <tr>\n",
              "      <th>2</th>\n",
              "      <td>1005</td>\n",
              "      <td>AL</td>\n",
              "      <td>5943</td>\n",
              "      <td>34971</td>\n",
              "      <td>Barbour County</td>\n",
              "      <td>26489</td>\n",
              "      <td>477.5</td>\n",
              "      <td>155.0</td>\n",
              "      <td>stable</td>\n",
              "      <td>-1.4</td>\n",
              "      <td>192.7</td>\n",
              "      <td>62</td>\n",
              "      <td>falling</td>\n",
              "    </tr>\n",
              "    <tr>\n",
              "      <th>3</th>\n",
              "      <td>1007</td>\n",
              "      <td>AL</td>\n",
              "      <td>3666</td>\n",
              "      <td>39546</td>\n",
              "      <td>Bibb County</td>\n",
              "      <td>22583</td>\n",
              "      <td>494.6</td>\n",
              "      <td>125.0</td>\n",
              "      <td>stable</td>\n",
              "      <td>3.3</td>\n",
              "      <td>212.4</td>\n",
              "      <td>53</td>\n",
              "      <td>stable</td>\n",
              "    </tr>\n",
              "    <tr>\n",
              "      <th>4</th>\n",
              "      <td>1009</td>\n",
              "      <td>AL</td>\n",
              "      <td>10000</td>\n",
              "      <td>45567</td>\n",
              "      <td>Blount County</td>\n",
              "      <td>57673</td>\n",
              "      <td>429.9</td>\n",
              "      <td>291.0</td>\n",
              "      <td>stable</td>\n",
              "      <td>-1.7</td>\n",
              "      <td>175.4</td>\n",
              "      <td>120</td>\n",
              "      <td>falling</td>\n",
              "    </tr>\n",
              "  </tbody>\n",
              "</table>\n",
              "</div>\n",
              "      <button class=\"colab-df-convert\" onclick=\"convertToInteractive('df-cce1b3ae-60b7-43ef-828d-bf1904780433')\"\n",
              "              title=\"Convert this dataframe to an interactive table.\"\n",
              "              style=\"display:none;\">\n",
              "        \n",
              "  <svg xmlns=\"http://www.w3.org/2000/svg\" height=\"24px\"viewBox=\"0 0 24 24\"\n",
              "       width=\"24px\">\n",
              "    <path d=\"M0 0h24v24H0V0z\" fill=\"none\"/>\n",
              "    <path d=\"M18.56 5.44l.94 2.06.94-2.06 2.06-.94-2.06-.94-.94-2.06-.94 2.06-2.06.94zm-11 1L8.5 8.5l.94-2.06 2.06-.94-2.06-.94L8.5 2.5l-.94 2.06-2.06.94zm10 10l.94 2.06.94-2.06 2.06-.94-2.06-.94-.94-2.06-.94 2.06-2.06.94z\"/><path d=\"M17.41 7.96l-1.37-1.37c-.4-.4-.92-.59-1.43-.59-.52 0-1.04.2-1.43.59L10.3 9.45l-7.72 7.72c-.78.78-.78 2.05 0 2.83L4 21.41c.39.39.9.59 1.41.59.51 0 1.02-.2 1.41-.59l7.78-7.78 2.81-2.81c.8-.78.8-2.07 0-2.86zM5.41 20L4 18.59l7.72-7.72 1.47 1.35L5.41 20z\"/>\n",
              "  </svg>\n",
              "      </button>\n",
              "      \n",
              "  <style>\n",
              "    .colab-df-container {\n",
              "      display:flex;\n",
              "      flex-wrap:wrap;\n",
              "      gap: 12px;\n",
              "    }\n",
              "\n",
              "    .colab-df-convert {\n",
              "      background-color: #E8F0FE;\n",
              "      border: none;\n",
              "      border-radius: 50%;\n",
              "      cursor: pointer;\n",
              "      display: none;\n",
              "      fill: #1967D2;\n",
              "      height: 32px;\n",
              "      padding: 0 0 0 0;\n",
              "      width: 32px;\n",
              "    }\n",
              "\n",
              "    .colab-df-convert:hover {\n",
              "      background-color: #E2EBFA;\n",
              "      box-shadow: 0px 1px 2px rgba(60, 64, 67, 0.3), 0px 1px 3px 1px rgba(60, 64, 67, 0.15);\n",
              "      fill: #174EA6;\n",
              "    }\n",
              "\n",
              "    [theme=dark] .colab-df-convert {\n",
              "      background-color: #3B4455;\n",
              "      fill: #D2E3FC;\n",
              "    }\n",
              "\n",
              "    [theme=dark] .colab-df-convert:hover {\n",
              "      background-color: #434B5C;\n",
              "      box-shadow: 0px 1px 3px 1px rgba(0, 0, 0, 0.15);\n",
              "      filter: drop-shadow(0px 1px 2px rgba(0, 0, 0, 0.3));\n",
              "      fill: #FFFFFF;\n",
              "    }\n",
              "  </style>\n",
              "\n",
              "      <script>\n",
              "        const buttonEl =\n",
              "          document.querySelector('#df-cce1b3ae-60b7-43ef-828d-bf1904780433 button.colab-df-convert');\n",
              "        buttonEl.style.display =\n",
              "          google.colab.kernel.accessAllowed ? 'block' : 'none';\n",
              "\n",
              "        async function convertToInteractive(key) {\n",
              "          const element = document.querySelector('#df-cce1b3ae-60b7-43ef-828d-bf1904780433');\n",
              "          const dataTable =\n",
              "            await google.colab.kernel.invokeFunction('convertToInteractive',\n",
              "                                                     [key], {});\n",
              "          if (!dataTable) return;\n",
              "\n",
              "          const docLinkHtml = 'Like what you see? Visit the ' +\n",
              "            '<a target=\"_blank\" href=https://colab.research.google.com/notebooks/data_table.ipynb>data table notebook</a>'\n",
              "            + ' to learn more about interactive tables.';\n",
              "          element.innerHTML = '';\n",
              "          dataTable['output_type'] = 'display_data';\n",
              "          await google.colab.output.renderOutput(dataTable, element);\n",
              "          const docLink = document.createElement('div');\n",
              "          docLink.innerHTML = docLinkHtml;\n",
              "          element.appendChild(docLink);\n",
              "        }\n",
              "      </script>\n",
              "    </div>\n",
              "  </div>\n",
              "  "
            ]
          },
          "metadata": {},
          "execution_count": 35
        }
      ]
    },
    {
      "cell_type": "code",
      "source": [
        "# Genereal information about the dataset, to show number of rows and columns\n",
        "cancer_df.info()"
      ],
      "metadata": {
        "colab": {
          "base_uri": "https://localhost:8080/"
        },
        "id": "-JnUgJvfWYN-",
        "outputId": "45316f49-5828-45de-87bc-abe3c8f0a523"
      },
      "execution_count": null,
      "outputs": [
        {
          "output_type": "stream",
          "name": "stdout",
          "text": [
            "<class 'pandas.core.frame.DataFrame'>\n",
            "RangeIndex: 3072 entries, 0 to 3071\n",
            "Data columns (total 13 columns):\n",
            " #   Column            Non-Null Count  Dtype  \n",
            "---  ------            --------------  -----  \n",
            " 0   countyCode        3072 non-null   int64  \n",
            " 1   State             3072 non-null   object \n",
            " 2   PovertyEst        3072 non-null   int64  \n",
            " 3   medIncome         3072 non-null   int64  \n",
            " 4   Name              3072 non-null   object \n",
            " 5   popEst2015        3072 non-null   int64  \n",
            " 6   incidenceRate     3072 non-null   float64\n",
            " 7   avgAnnCount       3072 non-null   float64\n",
            " 8   recentTrend       3072 non-null   object \n",
            " 9   fiveYearTrend     3072 non-null   object \n",
            " 10  deathRate         3072 non-null   float64\n",
            " 11  avgDeathsPerYear  3072 non-null   int64  \n",
            " 12  recTrend          3072 non-null   object \n",
            "dtypes: float64(3), int64(5), object(5)\n",
            "memory usage: 312.1+ KB\n"
          ]
        }
      ]
    },
    {
      "cell_type": "code",
      "source": [
        "cancer_df.describe()"
      ],
      "metadata": {
        "colab": {
          "base_uri": "https://localhost:8080/",
          "height": 361
        },
        "id": "iyfa7lysWa0J",
        "outputId": "0ea40567-64ec-44fa-86f8-9287a070db6e"
      },
      "execution_count": null,
      "outputs": [
        {
          "output_type": "execute_result",
          "data": {
            "text/plain": [
              "         countyCode    PovertyEst      medIncome    popEst2015  incidenceRate  \\\n",
              "count   3072.000000  3.072000e+03    3072.000000  3.072000e+03    3072.000000   \n",
              "mean   30342.512695  1.567978e+04   47091.269206  1.045470e+05     448.287419   \n",
              "std    15092.224711  5.614675e+04   12079.964480  3.325959e+05      54.481622   \n",
              "min     1001.000000  9.100000e+01   22640.000000  8.270000e+02     201.300000   \n",
              "25%    18180.500000  1.889500e+03   38876.250000  1.173900e+04     420.475000   \n",
              "50%    29144.000000  4.435500e+03   45201.000000  2.693200e+04     453.550000   \n",
              "75%    45053.500000  1.086550e+04   52509.250000  6.971500e+04     480.900000   \n",
              "max    56045.000000  1.863025e+06  125635.000000  1.017029e+07    1206.900000   \n",
              "\n",
              "        avgAnnCount    deathRate  avgDeathsPerYear  \n",
              "count   3072.000000  3072.000000       3072.000000  \n",
              "mean     612.505632   178.619954        187.769206  \n",
              "std     1422.851775    27.732254        506.491882  \n",
              "min        6.000000    59.700000          3.000000  \n",
              "25%       76.000000   161.200000         28.000000  \n",
              "50%      173.000000   178.150000         62.000000  \n",
              "75%      522.250000   195.200000        150.000000  \n",
              "max    38150.000000   362.800000      14010.000000  "
            ],
            "text/html": [
              "\n",
              "  <div id=\"df-7ee3a633-6380-4172-bc60-c5106132f877\">\n",
              "    <div class=\"colab-df-container\">\n",
              "      <div>\n",
              "<style scoped>\n",
              "    .dataframe tbody tr th:only-of-type {\n",
              "        vertical-align: middle;\n",
              "    }\n",
              "\n",
              "    .dataframe tbody tr th {\n",
              "        vertical-align: top;\n",
              "    }\n",
              "\n",
              "    .dataframe thead th {\n",
              "        text-align: right;\n",
              "    }\n",
              "</style>\n",
              "<table border=\"1\" class=\"dataframe\">\n",
              "  <thead>\n",
              "    <tr style=\"text-align: right;\">\n",
              "      <th></th>\n",
              "      <th>countyCode</th>\n",
              "      <th>PovertyEst</th>\n",
              "      <th>medIncome</th>\n",
              "      <th>popEst2015</th>\n",
              "      <th>incidenceRate</th>\n",
              "      <th>avgAnnCount</th>\n",
              "      <th>deathRate</th>\n",
              "      <th>avgDeathsPerYear</th>\n",
              "    </tr>\n",
              "  </thead>\n",
              "  <tbody>\n",
              "    <tr>\n",
              "      <th>count</th>\n",
              "      <td>3072.000000</td>\n",
              "      <td>3.072000e+03</td>\n",
              "      <td>3072.000000</td>\n",
              "      <td>3.072000e+03</td>\n",
              "      <td>3072.000000</td>\n",
              "      <td>3072.000000</td>\n",
              "      <td>3072.000000</td>\n",
              "      <td>3072.000000</td>\n",
              "    </tr>\n",
              "    <tr>\n",
              "      <th>mean</th>\n",
              "      <td>30342.512695</td>\n",
              "      <td>1.567978e+04</td>\n",
              "      <td>47091.269206</td>\n",
              "      <td>1.045470e+05</td>\n",
              "      <td>448.287419</td>\n",
              "      <td>612.505632</td>\n",
              "      <td>178.619954</td>\n",
              "      <td>187.769206</td>\n",
              "    </tr>\n",
              "    <tr>\n",
              "      <th>std</th>\n",
              "      <td>15092.224711</td>\n",
              "      <td>5.614675e+04</td>\n",
              "      <td>12079.964480</td>\n",
              "      <td>3.325959e+05</td>\n",
              "      <td>54.481622</td>\n",
              "      <td>1422.851775</td>\n",
              "      <td>27.732254</td>\n",
              "      <td>506.491882</td>\n",
              "    </tr>\n",
              "    <tr>\n",
              "      <th>min</th>\n",
              "      <td>1001.000000</td>\n",
              "      <td>9.100000e+01</td>\n",
              "      <td>22640.000000</td>\n",
              "      <td>8.270000e+02</td>\n",
              "      <td>201.300000</td>\n",
              "      <td>6.000000</td>\n",
              "      <td>59.700000</td>\n",
              "      <td>3.000000</td>\n",
              "    </tr>\n",
              "    <tr>\n",
              "      <th>25%</th>\n",
              "      <td>18180.500000</td>\n",
              "      <td>1.889500e+03</td>\n",
              "      <td>38876.250000</td>\n",
              "      <td>1.173900e+04</td>\n",
              "      <td>420.475000</td>\n",
              "      <td>76.000000</td>\n",
              "      <td>161.200000</td>\n",
              "      <td>28.000000</td>\n",
              "    </tr>\n",
              "    <tr>\n",
              "      <th>50%</th>\n",
              "      <td>29144.000000</td>\n",
              "      <td>4.435500e+03</td>\n",
              "      <td>45201.000000</td>\n",
              "      <td>2.693200e+04</td>\n",
              "      <td>453.550000</td>\n",
              "      <td>173.000000</td>\n",
              "      <td>178.150000</td>\n",
              "      <td>62.000000</td>\n",
              "    </tr>\n",
              "    <tr>\n",
              "      <th>75%</th>\n",
              "      <td>45053.500000</td>\n",
              "      <td>1.086550e+04</td>\n",
              "      <td>52509.250000</td>\n",
              "      <td>6.971500e+04</td>\n",
              "      <td>480.900000</td>\n",
              "      <td>522.250000</td>\n",
              "      <td>195.200000</td>\n",
              "      <td>150.000000</td>\n",
              "    </tr>\n",
              "    <tr>\n",
              "      <th>max</th>\n",
              "      <td>56045.000000</td>\n",
              "      <td>1.863025e+06</td>\n",
              "      <td>125635.000000</td>\n",
              "      <td>1.017029e+07</td>\n",
              "      <td>1206.900000</td>\n",
              "      <td>38150.000000</td>\n",
              "      <td>362.800000</td>\n",
              "      <td>14010.000000</td>\n",
              "    </tr>\n",
              "  </tbody>\n",
              "</table>\n",
              "</div>\n",
              "      <button class=\"colab-df-convert\" onclick=\"convertToInteractive('df-7ee3a633-6380-4172-bc60-c5106132f877')\"\n",
              "              title=\"Convert this dataframe to an interactive table.\"\n",
              "              style=\"display:none;\">\n",
              "        \n",
              "  <svg xmlns=\"http://www.w3.org/2000/svg\" height=\"24px\"viewBox=\"0 0 24 24\"\n",
              "       width=\"24px\">\n",
              "    <path d=\"M0 0h24v24H0V0z\" fill=\"none\"/>\n",
              "    <path d=\"M18.56 5.44l.94 2.06.94-2.06 2.06-.94-2.06-.94-.94-2.06-.94 2.06-2.06.94zm-11 1L8.5 8.5l.94-2.06 2.06-.94-2.06-.94L8.5 2.5l-.94 2.06-2.06.94zm10 10l.94 2.06.94-2.06 2.06-.94-2.06-.94-.94-2.06-.94 2.06-2.06.94z\"/><path d=\"M17.41 7.96l-1.37-1.37c-.4-.4-.92-.59-1.43-.59-.52 0-1.04.2-1.43.59L10.3 9.45l-7.72 7.72c-.78.78-.78 2.05 0 2.83L4 21.41c.39.39.9.59 1.41.59.51 0 1.02-.2 1.41-.59l7.78-7.78 2.81-2.81c.8-.78.8-2.07 0-2.86zM5.41 20L4 18.59l7.72-7.72 1.47 1.35L5.41 20z\"/>\n",
              "  </svg>\n",
              "      </button>\n",
              "      \n",
              "  <style>\n",
              "    .colab-df-container {\n",
              "      display:flex;\n",
              "      flex-wrap:wrap;\n",
              "      gap: 12px;\n",
              "    }\n",
              "\n",
              "    .colab-df-convert {\n",
              "      background-color: #E8F0FE;\n",
              "      border: none;\n",
              "      border-radius: 50%;\n",
              "      cursor: pointer;\n",
              "      display: none;\n",
              "      fill: #1967D2;\n",
              "      height: 32px;\n",
              "      padding: 0 0 0 0;\n",
              "      width: 32px;\n",
              "    }\n",
              "\n",
              "    .colab-df-convert:hover {\n",
              "      background-color: #E2EBFA;\n",
              "      box-shadow: 0px 1px 2px rgba(60, 64, 67, 0.3), 0px 1px 3px 1px rgba(60, 64, 67, 0.15);\n",
              "      fill: #174EA6;\n",
              "    }\n",
              "\n",
              "    [theme=dark] .colab-df-convert {\n",
              "      background-color: #3B4455;\n",
              "      fill: #D2E3FC;\n",
              "    }\n",
              "\n",
              "    [theme=dark] .colab-df-convert:hover {\n",
              "      background-color: #434B5C;\n",
              "      box-shadow: 0px 1px 3px 1px rgba(0, 0, 0, 0.15);\n",
              "      filter: drop-shadow(0px 1px 2px rgba(0, 0, 0, 0.3));\n",
              "      fill: #FFFFFF;\n",
              "    }\n",
              "  </style>\n",
              "\n",
              "      <script>\n",
              "        const buttonEl =\n",
              "          document.querySelector('#df-7ee3a633-6380-4172-bc60-c5106132f877 button.colab-df-convert');\n",
              "        buttonEl.style.display =\n",
              "          google.colab.kernel.accessAllowed ? 'block' : 'none';\n",
              "\n",
              "        async function convertToInteractive(key) {\n",
              "          const element = document.querySelector('#df-7ee3a633-6380-4172-bc60-c5106132f877');\n",
              "          const dataTable =\n",
              "            await google.colab.kernel.invokeFunction('convertToInteractive',\n",
              "                                                     [key], {});\n",
              "          if (!dataTable) return;\n",
              "\n",
              "          const docLinkHtml = 'Like what you see? Visit the ' +\n",
              "            '<a target=\"_blank\" href=https://colab.research.google.com/notebooks/data_table.ipynb>data table notebook</a>'\n",
              "            + ' to learn more about interactive tables.';\n",
              "          element.innerHTML = '';\n",
              "          dataTable['output_type'] = 'display_data';\n",
              "          await google.colab.output.renderOutput(dataTable, element);\n",
              "          const docLink = document.createElement('div');\n",
              "          docLink.innerHTML = docLinkHtml;\n",
              "          element.appendChild(docLink);\n",
              "        }\n",
              "      </script>\n",
              "    </div>\n",
              "  </div>\n",
              "  "
            ]
          },
          "metadata": {},
          "execution_count": 37
        }
      ]
    },
    {
      "cell_type": "code",
      "source": [
        "# Shape of data\n",
        "print(cancer_df.shape)\n",
        "\n",
        "# Display column names\n",
        "print(cancer_df.columns)"
      ],
      "metadata": {
        "colab": {
          "base_uri": "https://localhost:8080/"
        },
        "id": "kZDNDzXMWduO",
        "outputId": "bbccbc07-a890-4509-8cad-0a9907a1e834"
      },
      "execution_count": null,
      "outputs": [
        {
          "output_type": "stream",
          "name": "stdout",
          "text": [
            "(3072, 13)\n",
            "Index(['countyCode', 'State', 'PovertyEst', 'medIncome', 'Name', 'popEst2015',\n",
            "       'incidenceRate', 'avgAnnCount', 'recentTrend', 'fiveYearTrend',\n",
            "       'deathRate', 'avgDeathsPerYear', 'recTrend'],\n",
            "      dtype='object')\n"
          ]
        }
      ]
    },
    {
      "cell_type": "code",
      "source": [
        "# Data Correlation\n",
        "print(cancer_df.corr())"
      ],
      "metadata": {
        "colab": {
          "base_uri": "https://localhost:8080/"
        },
        "id": "D95M6AHhdi9s",
        "outputId": "cf876b4b-1946-4834-b693-c397a9356ebc"
      },
      "execution_count": null,
      "outputs": [
        {
          "output_type": "stream",
          "name": "stdout",
          "text": [
            "                  countyCode  PovertyEst  medIncome  popEst2015  \\\n",
            "countyCode          1.000000   -0.057949   0.060010   -0.056178   \n",
            "PovertyEst         -0.057949    1.000000   0.116401    0.968736   \n",
            "medIncome           0.060010    0.116401   1.000000    0.238723   \n",
            "popEst2015         -0.056178    0.968736   0.238723    1.000000   \n",
            "incidenceRate      -0.074558    0.013413  -0.002949    0.023981   \n",
            "avgAnnCount        -0.094373    0.888021   0.269430    0.926633   \n",
            "deathRate          -0.041023   -0.084420  -0.430815   -0.123186   \n",
            "avgDeathsPerYear   -0.060316    0.943291   0.224364    0.976884   \n",
            "\n",
            "                  incidenceRate  avgAnnCount  deathRate  avgDeathsPerYear  \n",
            "countyCode            -0.074558    -0.094373  -0.041023         -0.060316  \n",
            "PovertyEst             0.013413     0.888021  -0.084420          0.943291  \n",
            "medIncome             -0.002949     0.269430  -0.430815          0.224364  \n",
            "popEst2015             0.023981     0.926633  -0.123186          0.976884  \n",
            "incidenceRate          1.000000     0.071422   0.447939          0.060647  \n",
            "avgAnnCount            0.071422     1.000000  -0.144072          0.939702  \n",
            "deathRate              0.447939    -0.144072   1.000000         -0.092433  \n",
            "avgDeathsPerYear       0.060647     0.939702  -0.092433          1.000000  \n"
          ]
        },
        {
          "output_type": "stream",
          "name": "stderr",
          "text": [
            "<ipython-input-41-eab8db69df66>:2: FutureWarning: The default value of numeric_only in DataFrame.corr is deprecated. In a future version, it will default to False. Select only valid columns or specify the value of numeric_only to silence this warning.\n",
            "  print(cancer_df.corr())\n"
          ]
        }
      ]
    },
    {
      "cell_type": "code",
      "source": [
        "# Identifying missing values\n",
        "type(path)\n",
        "cancer_df.isnull()"
      ],
      "metadata": {
        "colab": {
          "base_uri": "https://localhost:8080/",
          "height": 483
        },
        "id": "vbqQIDkKWg7g",
        "outputId": "27f4dfaa-4dc5-4d16-d2f5-16c7ae03a6aa"
      },
      "execution_count": null,
      "outputs": [
        {
          "output_type": "execute_result",
          "data": {
            "text/plain": [
              "      countyCode  State  PovertyEst  medIncome   Name  popEst2015  \\\n",
              "0          False  False       False      False  False       False   \n",
              "1          False  False       False      False  False       False   \n",
              "2          False  False       False      False  False       False   \n",
              "3          False  False       False      False  False       False   \n",
              "4          False  False       False      False  False       False   \n",
              "...          ...    ...         ...        ...    ...         ...   \n",
              "3067       False  False       False      False  False       False   \n",
              "3068       False  False       False      False  False       False   \n",
              "3069       False  False       False      False  False       False   \n",
              "3070       False  False       False      False  False       False   \n",
              "3071       False  False       False      False  False       False   \n",
              "\n",
              "      incidenceRate  avgAnnCount  recentTrend  fiveYearTrend  deathRate  \\\n",
              "0             False        False        False          False      False   \n",
              "1             False        False        False          False      False   \n",
              "2             False        False        False          False      False   \n",
              "3             False        False        False          False      False   \n",
              "4             False        False        False          False      False   \n",
              "...             ...          ...          ...            ...        ...   \n",
              "3067          False        False        False          False      False   \n",
              "3068          False        False        False          False      False   \n",
              "3069          False        False        False          False      False   \n",
              "3070          False        False        False          False      False   \n",
              "3071          False        False        False          False      False   \n",
              "\n",
              "      avgDeathsPerYear  recTrend  \n",
              "0                False     False  \n",
              "1                False     False  \n",
              "2                False     False  \n",
              "3                False     False  \n",
              "4                False     False  \n",
              "...                ...       ...  \n",
              "3067             False     False  \n",
              "3068             False     False  \n",
              "3069             False     False  \n",
              "3070             False     False  \n",
              "3071             False     False  \n",
              "\n",
              "[3072 rows x 13 columns]"
            ],
            "text/html": [
              "\n",
              "  <div id=\"df-fb576178-5174-4f2e-8491-caf693bbbe7a\">\n",
              "    <div class=\"colab-df-container\">\n",
              "      <div>\n",
              "<style scoped>\n",
              "    .dataframe tbody tr th:only-of-type {\n",
              "        vertical-align: middle;\n",
              "    }\n",
              "\n",
              "    .dataframe tbody tr th {\n",
              "        vertical-align: top;\n",
              "    }\n",
              "\n",
              "    .dataframe thead th {\n",
              "        text-align: right;\n",
              "    }\n",
              "</style>\n",
              "<table border=\"1\" class=\"dataframe\">\n",
              "  <thead>\n",
              "    <tr style=\"text-align: right;\">\n",
              "      <th></th>\n",
              "      <th>countyCode</th>\n",
              "      <th>State</th>\n",
              "      <th>PovertyEst</th>\n",
              "      <th>medIncome</th>\n",
              "      <th>Name</th>\n",
              "      <th>popEst2015</th>\n",
              "      <th>incidenceRate</th>\n",
              "      <th>avgAnnCount</th>\n",
              "      <th>recentTrend</th>\n",
              "      <th>fiveYearTrend</th>\n",
              "      <th>deathRate</th>\n",
              "      <th>avgDeathsPerYear</th>\n",
              "      <th>recTrend</th>\n",
              "    </tr>\n",
              "  </thead>\n",
              "  <tbody>\n",
              "    <tr>\n",
              "      <th>0</th>\n",
              "      <td>False</td>\n",
              "      <td>False</td>\n",
              "      <td>False</td>\n",
              "      <td>False</td>\n",
              "      <td>False</td>\n",
              "      <td>False</td>\n",
              "      <td>False</td>\n",
              "      <td>False</td>\n",
              "      <td>False</td>\n",
              "      <td>False</td>\n",
              "      <td>False</td>\n",
              "      <td>False</td>\n",
              "      <td>False</td>\n",
              "    </tr>\n",
              "    <tr>\n",
              "      <th>1</th>\n",
              "      <td>False</td>\n",
              "      <td>False</td>\n",
              "      <td>False</td>\n",
              "      <td>False</td>\n",
              "      <td>False</td>\n",
              "      <td>False</td>\n",
              "      <td>False</td>\n",
              "      <td>False</td>\n",
              "      <td>False</td>\n",
              "      <td>False</td>\n",
              "      <td>False</td>\n",
              "      <td>False</td>\n",
              "      <td>False</td>\n",
              "    </tr>\n",
              "    <tr>\n",
              "      <th>2</th>\n",
              "      <td>False</td>\n",
              "      <td>False</td>\n",
              "      <td>False</td>\n",
              "      <td>False</td>\n",
              "      <td>False</td>\n",
              "      <td>False</td>\n",
              "      <td>False</td>\n",
              "      <td>False</td>\n",
              "      <td>False</td>\n",
              "      <td>False</td>\n",
              "      <td>False</td>\n",
              "      <td>False</td>\n",
              "      <td>False</td>\n",
              "    </tr>\n",
              "    <tr>\n",
              "      <th>3</th>\n",
              "      <td>False</td>\n",
              "      <td>False</td>\n",
              "      <td>False</td>\n",
              "      <td>False</td>\n",
              "      <td>False</td>\n",
              "      <td>False</td>\n",
              "      <td>False</td>\n",
              "      <td>False</td>\n",
              "      <td>False</td>\n",
              "      <td>False</td>\n",
              "      <td>False</td>\n",
              "      <td>False</td>\n",
              "      <td>False</td>\n",
              "    </tr>\n",
              "    <tr>\n",
              "      <th>4</th>\n",
              "      <td>False</td>\n",
              "      <td>False</td>\n",
              "      <td>False</td>\n",
              "      <td>False</td>\n",
              "      <td>False</td>\n",
              "      <td>False</td>\n",
              "      <td>False</td>\n",
              "      <td>False</td>\n",
              "      <td>False</td>\n",
              "      <td>False</td>\n",
              "      <td>False</td>\n",
              "      <td>False</td>\n",
              "      <td>False</td>\n",
              "    </tr>\n",
              "    <tr>\n",
              "      <th>...</th>\n",
              "      <td>...</td>\n",
              "      <td>...</td>\n",
              "      <td>...</td>\n",
              "      <td>...</td>\n",
              "      <td>...</td>\n",
              "      <td>...</td>\n",
              "      <td>...</td>\n",
              "      <td>...</td>\n",
              "      <td>...</td>\n",
              "      <td>...</td>\n",
              "      <td>...</td>\n",
              "      <td>...</td>\n",
              "      <td>...</td>\n",
              "    </tr>\n",
              "    <tr>\n",
              "      <th>3067</th>\n",
              "      <td>False</td>\n",
              "      <td>False</td>\n",
              "      <td>False</td>\n",
              "      <td>False</td>\n",
              "      <td>False</td>\n",
              "      <td>False</td>\n",
              "      <td>False</td>\n",
              "      <td>False</td>\n",
              "      <td>False</td>\n",
              "      <td>False</td>\n",
              "      <td>False</td>\n",
              "      <td>False</td>\n",
              "      <td>False</td>\n",
              "    </tr>\n",
              "    <tr>\n",
              "      <th>3068</th>\n",
              "      <td>False</td>\n",
              "      <td>False</td>\n",
              "      <td>False</td>\n",
              "      <td>False</td>\n",
              "      <td>False</td>\n",
              "      <td>False</td>\n",
              "      <td>False</td>\n",
              "      <td>False</td>\n",
              "      <td>False</td>\n",
              "      <td>False</td>\n",
              "      <td>False</td>\n",
              "      <td>False</td>\n",
              "      <td>False</td>\n",
              "    </tr>\n",
              "    <tr>\n",
              "      <th>3069</th>\n",
              "      <td>False</td>\n",
              "      <td>False</td>\n",
              "      <td>False</td>\n",
              "      <td>False</td>\n",
              "      <td>False</td>\n",
              "      <td>False</td>\n",
              "      <td>False</td>\n",
              "      <td>False</td>\n",
              "      <td>False</td>\n",
              "      <td>False</td>\n",
              "      <td>False</td>\n",
              "      <td>False</td>\n",
              "      <td>False</td>\n",
              "    </tr>\n",
              "    <tr>\n",
              "      <th>3070</th>\n",
              "      <td>False</td>\n",
              "      <td>False</td>\n",
              "      <td>False</td>\n",
              "      <td>False</td>\n",
              "      <td>False</td>\n",
              "      <td>False</td>\n",
              "      <td>False</td>\n",
              "      <td>False</td>\n",
              "      <td>False</td>\n",
              "      <td>False</td>\n",
              "      <td>False</td>\n",
              "      <td>False</td>\n",
              "      <td>False</td>\n",
              "    </tr>\n",
              "    <tr>\n",
              "      <th>3071</th>\n",
              "      <td>False</td>\n",
              "      <td>False</td>\n",
              "      <td>False</td>\n",
              "      <td>False</td>\n",
              "      <td>False</td>\n",
              "      <td>False</td>\n",
              "      <td>False</td>\n",
              "      <td>False</td>\n",
              "      <td>False</td>\n",
              "      <td>False</td>\n",
              "      <td>False</td>\n",
              "      <td>False</td>\n",
              "      <td>False</td>\n",
              "    </tr>\n",
              "  </tbody>\n",
              "</table>\n",
              "<p>3072 rows × 13 columns</p>\n",
              "</div>\n",
              "      <button class=\"colab-df-convert\" onclick=\"convertToInteractive('df-fb576178-5174-4f2e-8491-caf693bbbe7a')\"\n",
              "              title=\"Convert this dataframe to an interactive table.\"\n",
              "              style=\"display:none;\">\n",
              "        \n",
              "  <svg xmlns=\"http://www.w3.org/2000/svg\" height=\"24px\"viewBox=\"0 0 24 24\"\n",
              "       width=\"24px\">\n",
              "    <path d=\"M0 0h24v24H0V0z\" fill=\"none\"/>\n",
              "    <path d=\"M18.56 5.44l.94 2.06.94-2.06 2.06-.94-2.06-.94-.94-2.06-.94 2.06-2.06.94zm-11 1L8.5 8.5l.94-2.06 2.06-.94-2.06-.94L8.5 2.5l-.94 2.06-2.06.94zm10 10l.94 2.06.94-2.06 2.06-.94-2.06-.94-.94-2.06-.94 2.06-2.06.94z\"/><path d=\"M17.41 7.96l-1.37-1.37c-.4-.4-.92-.59-1.43-.59-.52 0-1.04.2-1.43.59L10.3 9.45l-7.72 7.72c-.78.78-.78 2.05 0 2.83L4 21.41c.39.39.9.59 1.41.59.51 0 1.02-.2 1.41-.59l7.78-7.78 2.81-2.81c.8-.78.8-2.07 0-2.86zM5.41 20L4 18.59l7.72-7.72 1.47 1.35L5.41 20z\"/>\n",
              "  </svg>\n",
              "      </button>\n",
              "      \n",
              "  <style>\n",
              "    .colab-df-container {\n",
              "      display:flex;\n",
              "      flex-wrap:wrap;\n",
              "      gap: 12px;\n",
              "    }\n",
              "\n",
              "    .colab-df-convert {\n",
              "      background-color: #E8F0FE;\n",
              "      border: none;\n",
              "      border-radius: 50%;\n",
              "      cursor: pointer;\n",
              "      display: none;\n",
              "      fill: #1967D2;\n",
              "      height: 32px;\n",
              "      padding: 0 0 0 0;\n",
              "      width: 32px;\n",
              "    }\n",
              "\n",
              "    .colab-df-convert:hover {\n",
              "      background-color: #E2EBFA;\n",
              "      box-shadow: 0px 1px 2px rgba(60, 64, 67, 0.3), 0px 1px 3px 1px rgba(60, 64, 67, 0.15);\n",
              "      fill: #174EA6;\n",
              "    }\n",
              "\n",
              "    [theme=dark] .colab-df-convert {\n",
              "      background-color: #3B4455;\n",
              "      fill: #D2E3FC;\n",
              "    }\n",
              "\n",
              "    [theme=dark] .colab-df-convert:hover {\n",
              "      background-color: #434B5C;\n",
              "      box-shadow: 0px 1px 3px 1px rgba(0, 0, 0, 0.15);\n",
              "      filter: drop-shadow(0px 1px 2px rgba(0, 0, 0, 0.3));\n",
              "      fill: #FFFFFF;\n",
              "    }\n",
              "  </style>\n",
              "\n",
              "      <script>\n",
              "        const buttonEl =\n",
              "          document.querySelector('#df-fb576178-5174-4f2e-8491-caf693bbbe7a button.colab-df-convert');\n",
              "        buttonEl.style.display =\n",
              "          google.colab.kernel.accessAllowed ? 'block' : 'none';\n",
              "\n",
              "        async function convertToInteractive(key) {\n",
              "          const element = document.querySelector('#df-fb576178-5174-4f2e-8491-caf693bbbe7a');\n",
              "          const dataTable =\n",
              "            await google.colab.kernel.invokeFunction('convertToInteractive',\n",
              "                                                     [key], {});\n",
              "          if (!dataTable) return;\n",
              "\n",
              "          const docLinkHtml = 'Like what you see? Visit the ' +\n",
              "            '<a target=\"_blank\" href=https://colab.research.google.com/notebooks/data_table.ipynb>data table notebook</a>'\n",
              "            + ' to learn more about interactive tables.';\n",
              "          element.innerHTML = '';\n",
              "          dataTable['output_type'] = 'display_data';\n",
              "          await google.colab.output.renderOutput(dataTable, element);\n",
              "          const docLink = document.createElement('div');\n",
              "          docLink.innerHTML = docLinkHtml;\n",
              "          element.appendChild(docLink);\n",
              "        }\n",
              "      </script>\n",
              "    </div>\n",
              "  </div>\n",
              "  "
            ]
          },
          "metadata": {},
          "execution_count": 42
        }
      ]
    },
    {
      "cell_type": "code",
      "source": [
        "print(cancer_df.isnull().sum())"
      ],
      "metadata": {
        "colab": {
          "base_uri": "https://localhost:8080/"
        },
        "id": "0LUEUW80Wjta",
        "outputId": "e4ff37cb-672d-4dba-bc61-277bf5e80045"
      },
      "execution_count": null,
      "outputs": [
        {
          "output_type": "stream",
          "name": "stdout",
          "text": [
            "countyCode          0\n",
            "State               0\n",
            "PovertyEst          0\n",
            "medIncome           0\n",
            "Name                0\n",
            "popEst2015          0\n",
            "incidenceRate       0\n",
            "avgAnnCount         0\n",
            "recentTrend         0\n",
            "fiveYearTrend       0\n",
            "deathRate           0\n",
            "avgDeathsPerYear    0\n",
            "recTrend            0\n",
            "dtype: int64\n"
          ]
        }
      ]
    },
    {
      "cell_type": "code",
      "source": [
        "cancer_df = cancer_df.dropna()"
      ],
      "metadata": {
        "id": "aV3RmMl9YLyU"
      },
      "execution_count": null,
      "outputs": []
    },
    {
      "cell_type": "code",
      "source": [
        "print(cancer_df.isnull().sum())"
      ],
      "metadata": {
        "colab": {
          "base_uri": "https://localhost:8080/"
        },
        "id": "OaGgrHnKYQUL",
        "outputId": "e9590cd3-7990-4896-cdd8-761da56c79dc"
      },
      "execution_count": null,
      "outputs": [
        {
          "output_type": "stream",
          "name": "stdout",
          "text": [
            "countyCode          0\n",
            "State               0\n",
            "PovertyEst          0\n",
            "medIncome           0\n",
            "Name                0\n",
            "popEst2015          0\n",
            "incidenceRate       0\n",
            "avgAnnCount         0\n",
            "recentTrend         0\n",
            "fiveYearTrend       0\n",
            "deathRate           0\n",
            "avgDeathsPerYear    0\n",
            "recTrend            0\n",
            "dtype: int64\n"
          ]
        }
      ]
    },
    {
      "cell_type": "markdown",
      "source": [
        "There are 3072 rows, and 13 columns. There are no missing values in this dataset, so we do not need to drop or handle any missing values."
      ],
      "metadata": {
        "id": "8GVQD9vjWqZE"
      }
    },
    {
      "cell_type": "markdown",
      "source": [
        "### Model Building for Incidence and Death Rate Prediction"
      ],
      "metadata": {
        "id": "6XIRgqWEdp4B"
      }
    },
    {
      "cell_type": "code",
      "source": [
        "# Import libraries\n",
        "import pandas as pd\n",
        "from sklearn.model_selection import train_test_split, KFold, GridSearchCV\n",
        "from sklearn.linear_model import LinearRegression\n",
        "from sklearn.neighbors import KNeighborsRegressor\n",
        "from sklearn.ensemble import RandomForestRegressor\n",
        "from sklearn.metrics import mean_squared_error"
      ],
      "metadata": {
        "id": "8pfRQuq3j5h6"
      },
      "execution_count": null,
      "outputs": []
    },
    {
      "cell_type": "code",
      "source": [
        "# check the number of unique counties\n",
        "print(cancer_df['countyCode'].nunique())\n",
        "\n",
        "# Since we're predicting by county we can drop the state column\n",
        "# and county Name column since the countyCode can be used to\n",
        "# uniquely identify a column\n",
        "\n",
        "#print(cancer_df.head())\n",
        "X = cancer_df.drop(['State', 'Name'], axis=1)\n",
        "\n",
        "\n",
        "X = X.drop(['incidenceRate', 'deathRate'], axis=1)\n",
        "Y = cancer_df[['incidenceRate', \"deathRate\"]]"
      ],
      "metadata": {
        "colab": {
          "base_uri": "https://localhost:8080/"
        },
        "id": "PngQzZLPL1oR",
        "outputId": "c59d88a2-efa3-46a9-f61a-8dd7cc907c70"
      },
      "execution_count": null,
      "outputs": [
        {
          "output_type": "stream",
          "name": "stdout",
          "text": [
            "3072\n"
          ]
        }
      ]
    },
    {
      "cell_type": "code",
      "source": [
        "# We check the unique values in recTrend and recentTrend\n",
        "\n",
        "print(X['recentTrend'].unique())\n",
        "print(X['recTrend'].unique())"
      ],
      "metadata": {
        "colab": {
          "base_uri": "https://localhost:8080/"
        },
        "id": "d-icga9eMUnE",
        "outputId": "7ed0780d-b65b-465c-927c-21e2ed59d02f"
      },
      "execution_count": null,
      "outputs": [
        {
          "output_type": "stream",
          "name": "stdout",
          "text": [
            "['stable' 'falling' '*' 'rising' '�' '��']\n",
            "['falling' 'stable' '**' 'rising']\n"
          ]
        }
      ]
    },
    {
      "cell_type": "code",
      "source": [
        "# recentTrend seems to contain some unknown values\n",
        "# so we drop the column and take into account fiveYearTrend\n",
        "# since fiveYearTrend is more specific and missing values\n",
        "# can be substituted with 0.\n",
        "# We use 0 to indicate there is no change in the trend\n",
        "X = X.drop('recentTrend', axis=1)\n",
        "X['fiveYearTrend'] = X['fiveYearTrend'].replace({'*': 0})\n",
        "#print(X['fiveYearTrend'].unique())"
      ],
      "metadata": {
        "id": "mDFj51vHMjT1"
      },
      "execution_count": null,
      "outputs": []
    },
    {
      "cell_type": "code",
      "source": [
        "# We fill all unknown recentTrend values with 0.\n",
        "# Making an assumption that whenever the value is missng\n",
        "# the rate is stable\n",
        "\n",
        "# We also fill missing values with 0 indicating stable\n",
        "\n",
        "\n",
        "X['recTrend'] = X['recTrend'].map({'falling': -1, 'stable': 0, 'rising': 1, '**' : 0})\n",
        "print(X.head())\n",
        "print(Y.head())"
      ],
      "metadata": {
        "colab": {
          "base_uri": "https://localhost:8080/"
        },
        "id": "06o-JRYfM7zY",
        "outputId": "a6515c63-8725-4c8a-c016-5aa2ae1180ec"
      },
      "execution_count": null,
      "outputs": [
        {
          "output_type": "stream",
          "name": "stdout",
          "text": [
            "   countyCode  PovertyEst  medIncome  popEst2015  avgAnnCount fiveYearTrend  \\\n",
            "0        1001        7204      54366       55347        266.0          -0.5   \n",
            "1        1003       25696      49626      203709       1072.0          -1.3   \n",
            "2        1005        5943      34971       26489        155.0          -1.4   \n",
            "3        1007        3666      39546       22583        125.0           3.3   \n",
            "4        1009       10000      45567       57673        291.0          -1.7   \n",
            "\n",
            "   avgDeathsPerYear  recTrend  \n",
            "0                99        -1  \n",
            "1               424        -1  \n",
            "2                62        -1  \n",
            "3                53         0  \n",
            "4               120        -1  \n",
            "   incidenceRate  deathRate\n",
            "0          475.0      178.3\n",
            "1          454.6      174.3\n",
            "2          477.5      192.7\n",
            "3          494.6      212.4\n",
            "4          429.9      175.4\n"
          ]
        }
      ]
    },
    {
      "cell_type": "code",
      "source": [
        "# split dataset into testing and training\n",
        "from sklearn.model_selection import train_test_split\n",
        "X_train, X_test, y_train, y_test = train_test_split(X, Y, test_size=0.2, random_state=42)"
      ],
      "metadata": {
        "id": "ULQlVPG1N39M"
      },
      "execution_count": null,
      "outputs": []
    },
    {
      "cell_type": "code",
      "source": [
        "# # Import necessary libraries\n",
        "# import pandas as pd\n",
        "import numpy as np\n",
        "# from sklearn.model_selection import KFold, GridSearchCV\n",
        "# from sklearn.linear_model import LinearRegression\n",
        "from sklearn.metrics import mean_squared_error, r2_score"
      ],
      "metadata": {
        "id": "dxgxLrEgOAh8"
      },
      "execution_count": null,
      "outputs": []
    },
    {
      "cell_type": "markdown",
      "source": [
        "#### Linear Regression"
      ],
      "metadata": {
        "id": "uON7iEKPd0GG"
      }
    },
    {
      "cell_type": "code",
      "source": [
        "cancer_df"
      ],
      "metadata": {
        "colab": {
          "base_uri": "https://localhost:8080/",
          "height": 653
        },
        "id": "8_IPUQZseFGW",
        "outputId": "908face6-b2a5-4370-f3ff-71a5db24034c"
      },
      "execution_count": null,
      "outputs": [
        {
          "output_type": "execute_result",
          "data": {
            "text/plain": [
              "      countyCode State  PovertyEst  medIncome               Name  popEst2015  \\\n",
              "0           1001    AL        7204      54366     Autauga County       55347   \n",
              "1           1003    AL       25696      49626     Baldwin County      203709   \n",
              "2           1005    AL        5943      34971     Barbour County       26489   \n",
              "3           1007    AL        3666      39546        Bibb County       22583   \n",
              "4           1009    AL       10000      45567      Blount County       57673   \n",
              "...          ...   ...         ...        ...                ...         ...   \n",
              "3067       56037    WY        4346      72604  Sweetwater County       44626   \n",
              "3068       56039    WY        1751      75348       Teton County       23125   \n",
              "3069       56041    WY        2081      56800       Uinta County       20822   \n",
              "3070       56043    WY        1030      50802    Washakie County        8328   \n",
              "3071       56045    WY         901      55520      Weston County        7234   \n",
              "\n",
              "      incidenceRate  avgAnnCount recentTrend fiveYearTrend  deathRate  \\\n",
              "0             475.0        266.0      stable          -0.5      178.3   \n",
              "1             454.6       1072.0      stable          -1.3      174.3   \n",
              "2             477.5        155.0      stable          -1.4      192.7   \n",
              "3             494.6        125.0      stable           3.3      212.4   \n",
              "4             429.9        291.0      stable          -1.7      175.4   \n",
              "...             ...          ...         ...           ...        ...   \n",
              "3067          403.5        155.0      stable           1.9      141.1   \n",
              "3068          402.7         83.0      stable          -6.6      136.9   \n",
              "3069          359.3         68.0      stable           4.1      132.8   \n",
              "3070          448.0         50.0      stable          -3.8      182.3   \n",
              "3071          397.1         37.0      stable           0.5      182.6   \n",
              "\n",
              "      avgDeathsPerYear recTrend  \n",
              "0                   99  falling  \n",
              "1                  424  falling  \n",
              "2                   62  falling  \n",
              "3                   53   stable  \n",
              "4                  120  falling  \n",
              "...                ...      ...  \n",
              "3067                49   stable  \n",
              "3068                23  falling  \n",
              "3069                24  falling  \n",
              "3070                21   stable  \n",
              "3071                17   stable  \n",
              "\n",
              "[3072 rows x 13 columns]"
            ],
            "text/html": [
              "\n",
              "  <div id=\"df-dde2ca76-570c-43ca-b818-f5da53624d96\">\n",
              "    <div class=\"colab-df-container\">\n",
              "      <div>\n",
              "<style scoped>\n",
              "    .dataframe tbody tr th:only-of-type {\n",
              "        vertical-align: middle;\n",
              "    }\n",
              "\n",
              "    .dataframe tbody tr th {\n",
              "        vertical-align: top;\n",
              "    }\n",
              "\n",
              "    .dataframe thead th {\n",
              "        text-align: right;\n",
              "    }\n",
              "</style>\n",
              "<table border=\"1\" class=\"dataframe\">\n",
              "  <thead>\n",
              "    <tr style=\"text-align: right;\">\n",
              "      <th></th>\n",
              "      <th>countyCode</th>\n",
              "      <th>State</th>\n",
              "      <th>PovertyEst</th>\n",
              "      <th>medIncome</th>\n",
              "      <th>Name</th>\n",
              "      <th>popEst2015</th>\n",
              "      <th>incidenceRate</th>\n",
              "      <th>avgAnnCount</th>\n",
              "      <th>recentTrend</th>\n",
              "      <th>fiveYearTrend</th>\n",
              "      <th>deathRate</th>\n",
              "      <th>avgDeathsPerYear</th>\n",
              "      <th>recTrend</th>\n",
              "    </tr>\n",
              "  </thead>\n",
              "  <tbody>\n",
              "    <tr>\n",
              "      <th>0</th>\n",
              "      <td>1001</td>\n",
              "      <td>AL</td>\n",
              "      <td>7204</td>\n",
              "      <td>54366</td>\n",
              "      <td>Autauga County</td>\n",
              "      <td>55347</td>\n",
              "      <td>475.0</td>\n",
              "      <td>266.0</td>\n",
              "      <td>stable</td>\n",
              "      <td>-0.5</td>\n",
              "      <td>178.3</td>\n",
              "      <td>99</td>\n",
              "      <td>falling</td>\n",
              "    </tr>\n",
              "    <tr>\n",
              "      <th>1</th>\n",
              "      <td>1003</td>\n",
              "      <td>AL</td>\n",
              "      <td>25696</td>\n",
              "      <td>49626</td>\n",
              "      <td>Baldwin County</td>\n",
              "      <td>203709</td>\n",
              "      <td>454.6</td>\n",
              "      <td>1072.0</td>\n",
              "      <td>stable</td>\n",
              "      <td>-1.3</td>\n",
              "      <td>174.3</td>\n",
              "      <td>424</td>\n",
              "      <td>falling</td>\n",
              "    </tr>\n",
              "    <tr>\n",
              "      <th>2</th>\n",
              "      <td>1005</td>\n",
              "      <td>AL</td>\n",
              "      <td>5943</td>\n",
              "      <td>34971</td>\n",
              "      <td>Barbour County</td>\n",
              "      <td>26489</td>\n",
              "      <td>477.5</td>\n",
              "      <td>155.0</td>\n",
              "      <td>stable</td>\n",
              "      <td>-1.4</td>\n",
              "      <td>192.7</td>\n",
              "      <td>62</td>\n",
              "      <td>falling</td>\n",
              "    </tr>\n",
              "    <tr>\n",
              "      <th>3</th>\n",
              "      <td>1007</td>\n",
              "      <td>AL</td>\n",
              "      <td>3666</td>\n",
              "      <td>39546</td>\n",
              "      <td>Bibb County</td>\n",
              "      <td>22583</td>\n",
              "      <td>494.6</td>\n",
              "      <td>125.0</td>\n",
              "      <td>stable</td>\n",
              "      <td>3.3</td>\n",
              "      <td>212.4</td>\n",
              "      <td>53</td>\n",
              "      <td>stable</td>\n",
              "    </tr>\n",
              "    <tr>\n",
              "      <th>4</th>\n",
              "      <td>1009</td>\n",
              "      <td>AL</td>\n",
              "      <td>10000</td>\n",
              "      <td>45567</td>\n",
              "      <td>Blount County</td>\n",
              "      <td>57673</td>\n",
              "      <td>429.9</td>\n",
              "      <td>291.0</td>\n",
              "      <td>stable</td>\n",
              "      <td>-1.7</td>\n",
              "      <td>175.4</td>\n",
              "      <td>120</td>\n",
              "      <td>falling</td>\n",
              "    </tr>\n",
              "    <tr>\n",
              "      <th>...</th>\n",
              "      <td>...</td>\n",
              "      <td>...</td>\n",
              "      <td>...</td>\n",
              "      <td>...</td>\n",
              "      <td>...</td>\n",
              "      <td>...</td>\n",
              "      <td>...</td>\n",
              "      <td>...</td>\n",
              "      <td>...</td>\n",
              "      <td>...</td>\n",
              "      <td>...</td>\n",
              "      <td>...</td>\n",
              "      <td>...</td>\n",
              "    </tr>\n",
              "    <tr>\n",
              "      <th>3067</th>\n",
              "      <td>56037</td>\n",
              "      <td>WY</td>\n",
              "      <td>4346</td>\n",
              "      <td>72604</td>\n",
              "      <td>Sweetwater County</td>\n",
              "      <td>44626</td>\n",
              "      <td>403.5</td>\n",
              "      <td>155.0</td>\n",
              "      <td>stable</td>\n",
              "      <td>1.9</td>\n",
              "      <td>141.1</td>\n",
              "      <td>49</td>\n",
              "      <td>stable</td>\n",
              "    </tr>\n",
              "    <tr>\n",
              "      <th>3068</th>\n",
              "      <td>56039</td>\n",
              "      <td>WY</td>\n",
              "      <td>1751</td>\n",
              "      <td>75348</td>\n",
              "      <td>Teton County</td>\n",
              "      <td>23125</td>\n",
              "      <td>402.7</td>\n",
              "      <td>83.0</td>\n",
              "      <td>stable</td>\n",
              "      <td>-6.6</td>\n",
              "      <td>136.9</td>\n",
              "      <td>23</td>\n",
              "      <td>falling</td>\n",
              "    </tr>\n",
              "    <tr>\n",
              "      <th>3069</th>\n",
              "      <td>56041</td>\n",
              "      <td>WY</td>\n",
              "      <td>2081</td>\n",
              "      <td>56800</td>\n",
              "      <td>Uinta County</td>\n",
              "      <td>20822</td>\n",
              "      <td>359.3</td>\n",
              "      <td>68.0</td>\n",
              "      <td>stable</td>\n",
              "      <td>4.1</td>\n",
              "      <td>132.8</td>\n",
              "      <td>24</td>\n",
              "      <td>falling</td>\n",
              "    </tr>\n",
              "    <tr>\n",
              "      <th>3070</th>\n",
              "      <td>56043</td>\n",
              "      <td>WY</td>\n",
              "      <td>1030</td>\n",
              "      <td>50802</td>\n",
              "      <td>Washakie County</td>\n",
              "      <td>8328</td>\n",
              "      <td>448.0</td>\n",
              "      <td>50.0</td>\n",
              "      <td>stable</td>\n",
              "      <td>-3.8</td>\n",
              "      <td>182.3</td>\n",
              "      <td>21</td>\n",
              "      <td>stable</td>\n",
              "    </tr>\n",
              "    <tr>\n",
              "      <th>3071</th>\n",
              "      <td>56045</td>\n",
              "      <td>WY</td>\n",
              "      <td>901</td>\n",
              "      <td>55520</td>\n",
              "      <td>Weston County</td>\n",
              "      <td>7234</td>\n",
              "      <td>397.1</td>\n",
              "      <td>37.0</td>\n",
              "      <td>stable</td>\n",
              "      <td>0.5</td>\n",
              "      <td>182.6</td>\n",
              "      <td>17</td>\n",
              "      <td>stable</td>\n",
              "    </tr>\n",
              "  </tbody>\n",
              "</table>\n",
              "<p>3072 rows × 13 columns</p>\n",
              "</div>\n",
              "      <button class=\"colab-df-convert\" onclick=\"convertToInteractive('df-dde2ca76-570c-43ca-b818-f5da53624d96')\"\n",
              "              title=\"Convert this dataframe to an interactive table.\"\n",
              "              style=\"display:none;\">\n",
              "        \n",
              "  <svg xmlns=\"http://www.w3.org/2000/svg\" height=\"24px\"viewBox=\"0 0 24 24\"\n",
              "       width=\"24px\">\n",
              "    <path d=\"M0 0h24v24H0V0z\" fill=\"none\"/>\n",
              "    <path d=\"M18.56 5.44l.94 2.06.94-2.06 2.06-.94-2.06-.94-.94-2.06-.94 2.06-2.06.94zm-11 1L8.5 8.5l.94-2.06 2.06-.94-2.06-.94L8.5 2.5l-.94 2.06-2.06.94zm10 10l.94 2.06.94-2.06 2.06-.94-2.06-.94-.94-2.06-.94 2.06-2.06.94z\"/><path d=\"M17.41 7.96l-1.37-1.37c-.4-.4-.92-.59-1.43-.59-.52 0-1.04.2-1.43.59L10.3 9.45l-7.72 7.72c-.78.78-.78 2.05 0 2.83L4 21.41c.39.39.9.59 1.41.59.51 0 1.02-.2 1.41-.59l7.78-7.78 2.81-2.81c.8-.78.8-2.07 0-2.86zM5.41 20L4 18.59l7.72-7.72 1.47 1.35L5.41 20z\"/>\n",
              "  </svg>\n",
              "      </button>\n",
              "      \n",
              "  <style>\n",
              "    .colab-df-container {\n",
              "      display:flex;\n",
              "      flex-wrap:wrap;\n",
              "      gap: 12px;\n",
              "    }\n",
              "\n",
              "    .colab-df-convert {\n",
              "      background-color: #E8F0FE;\n",
              "      border: none;\n",
              "      border-radius: 50%;\n",
              "      cursor: pointer;\n",
              "      display: none;\n",
              "      fill: #1967D2;\n",
              "      height: 32px;\n",
              "      padding: 0 0 0 0;\n",
              "      width: 32px;\n",
              "    }\n",
              "\n",
              "    .colab-df-convert:hover {\n",
              "      background-color: #E2EBFA;\n",
              "      box-shadow: 0px 1px 2px rgba(60, 64, 67, 0.3), 0px 1px 3px 1px rgba(60, 64, 67, 0.15);\n",
              "      fill: #174EA6;\n",
              "    }\n",
              "\n",
              "    [theme=dark] .colab-df-convert {\n",
              "      background-color: #3B4455;\n",
              "      fill: #D2E3FC;\n",
              "    }\n",
              "\n",
              "    [theme=dark] .colab-df-convert:hover {\n",
              "      background-color: #434B5C;\n",
              "      box-shadow: 0px 1px 3px 1px rgba(0, 0, 0, 0.15);\n",
              "      filter: drop-shadow(0px 1px 2px rgba(0, 0, 0, 0.3));\n",
              "      fill: #FFFFFF;\n",
              "    }\n",
              "  </style>\n",
              "\n",
              "      <script>\n",
              "        const buttonEl =\n",
              "          document.querySelector('#df-dde2ca76-570c-43ca-b818-f5da53624d96 button.colab-df-convert');\n",
              "        buttonEl.style.display =\n",
              "          google.colab.kernel.accessAllowed ? 'block' : 'none';\n",
              "\n",
              "        async function convertToInteractive(key) {\n",
              "          const element = document.querySelector('#df-dde2ca76-570c-43ca-b818-f5da53624d96');\n",
              "          const dataTable =\n",
              "            await google.colab.kernel.invokeFunction('convertToInteractive',\n",
              "                                                     [key], {});\n",
              "          if (!dataTable) return;\n",
              "\n",
              "          const docLinkHtml = 'Like what you see? Visit the ' +\n",
              "            '<a target=\"_blank\" href=https://colab.research.google.com/notebooks/data_table.ipynb>data table notebook</a>'\n",
              "            + ' to learn more about interactive tables.';\n",
              "          element.innerHTML = '';\n",
              "          dataTable['output_type'] = 'display_data';\n",
              "          await google.colab.output.renderOutput(dataTable, element);\n",
              "          const docLink = document.createElement('div');\n",
              "          docLink.innerHTML = docLinkHtml;\n",
              "          element.appendChild(docLink);\n",
              "        }\n",
              "      </script>\n",
              "    </div>\n",
              "  </div>\n",
              "  "
            ]
          },
          "metadata": {},
          "execution_count": 108
        }
      ]
    },
    {
      "cell_type": "code",
      "source": [
        "# Import necessary libraries\n",
        "import pandas as pd\n",
        "import numpy as np\n",
        "from sklearn.model_selection import KFold, GridSearchCV\n",
        "from sklearn.linear_model import LinearRegression\n",
        "from sklearn.metrics import mean_squared_error, r2_score"
      ],
      "metadata": {
        "id": "1KvQGN7PDDVt"
      },
      "execution_count": null,
      "outputs": []
    },
    {
      "cell_type": "code",
      "source": [
        "# Define the K-fold cross-validation object\n",
        "cv = KFold(n_splits=5, shuffle=True, random_state=42)"
      ],
      "metadata": {
        "id": "sISuBoEzBBgp"
      },
      "execution_count": null,
      "outputs": []
    },
    {
      "cell_type": "code",
      "source": [
        "# Define the linear regression model\n",
        "lr_model = LinearRegression()"
      ],
      "metadata": {
        "id": "MVR-I34WBFkd"
      },
      "execution_count": null,
      "outputs": []
    },
    {
      "cell_type": "code",
      "source": [
        "# Define the hyperparameter grid for tuning\n",
        "param_grid = {\n",
        "    'fit_intercept': [True, False],\n",
        "    }"
      ],
      "metadata": {
        "id": "kCztu1gGBLOO"
      },
      "execution_count": null,
      "outputs": []
    },
    {
      "cell_type": "code",
      "source": [
        "# Define the GridSearchCV object for hyperparameter tuning\n",
        "grid_search = GridSearchCV(lr_model, param_grid=param_grid, cv=cv, scoring='neg_mean_squared_error', n_jobs=-1)"
      ],
      "metadata": {
        "id": "UgSz-tUdBOBd"
      },
      "execution_count": null,
      "outputs": []
    },
    {
      "cell_type": "code",
      "source": [
        "# Fit the GridSearchCV object to the training data\n",
        "grid_search.fit(X_train, y_train)"
      ],
      "metadata": {
        "colab": {
          "base_uri": "https://localhost:8080/",
          "height": 115
        },
        "id": "tPRmyko-DUfU",
        "outputId": "8201e688-e679-4815-d2b4-51f71912962c"
      },
      "execution_count": null,
      "outputs": [
        {
          "output_type": "execute_result",
          "data": {
            "text/plain": [
              "GridSearchCV(cv=KFold(n_splits=5, random_state=42, shuffle=True),\n",
              "             estimator=LinearRegression(), n_jobs=-1,\n",
              "             param_grid={'fit_intercept': [True, False]},\n",
              "             scoring='neg_mean_squared_error')"
            ],
            "text/html": [
              "<style>#sk-container-id-7 {color: black;background-color: white;}#sk-container-id-7 pre{padding: 0;}#sk-container-id-7 div.sk-toggleable {background-color: white;}#sk-container-id-7 label.sk-toggleable__label {cursor: pointer;display: block;width: 100%;margin-bottom: 0;padding: 0.3em;box-sizing: border-box;text-align: center;}#sk-container-id-7 label.sk-toggleable__label-arrow:before {content: \"▸\";float: left;margin-right: 0.25em;color: #696969;}#sk-container-id-7 label.sk-toggleable__label-arrow:hover:before {color: black;}#sk-container-id-7 div.sk-estimator:hover label.sk-toggleable__label-arrow:before {color: black;}#sk-container-id-7 div.sk-toggleable__content {max-height: 0;max-width: 0;overflow: hidden;text-align: left;background-color: #f0f8ff;}#sk-container-id-7 div.sk-toggleable__content pre {margin: 0.2em;color: black;border-radius: 0.25em;background-color: #f0f8ff;}#sk-container-id-7 input.sk-toggleable__control:checked~div.sk-toggleable__content {max-height: 200px;max-width: 100%;overflow: auto;}#sk-container-id-7 input.sk-toggleable__control:checked~label.sk-toggleable__label-arrow:before {content: \"▾\";}#sk-container-id-7 div.sk-estimator input.sk-toggleable__control:checked~label.sk-toggleable__label {background-color: #d4ebff;}#sk-container-id-7 div.sk-label input.sk-toggleable__control:checked~label.sk-toggleable__label {background-color: #d4ebff;}#sk-container-id-7 input.sk-hidden--visually {border: 0;clip: rect(1px 1px 1px 1px);clip: rect(1px, 1px, 1px, 1px);height: 1px;margin: -1px;overflow: hidden;padding: 0;position: absolute;width: 1px;}#sk-container-id-7 div.sk-estimator {font-family: monospace;background-color: #f0f8ff;border: 1px dotted black;border-radius: 0.25em;box-sizing: border-box;margin-bottom: 0.5em;}#sk-container-id-7 div.sk-estimator:hover {background-color: #d4ebff;}#sk-container-id-7 div.sk-parallel-item::after {content: \"\";width: 100%;border-bottom: 1px solid gray;flex-grow: 1;}#sk-container-id-7 div.sk-label:hover label.sk-toggleable__label {background-color: #d4ebff;}#sk-container-id-7 div.sk-serial::before {content: \"\";position: absolute;border-left: 1px solid gray;box-sizing: border-box;top: 0;bottom: 0;left: 50%;z-index: 0;}#sk-container-id-7 div.sk-serial {display: flex;flex-direction: column;align-items: center;background-color: white;padding-right: 0.2em;padding-left: 0.2em;position: relative;}#sk-container-id-7 div.sk-item {position: relative;z-index: 1;}#sk-container-id-7 div.sk-parallel {display: flex;align-items: stretch;justify-content: center;background-color: white;position: relative;}#sk-container-id-7 div.sk-item::before, #sk-container-id-7 div.sk-parallel-item::before {content: \"\";position: absolute;border-left: 1px solid gray;box-sizing: border-box;top: 0;bottom: 0;left: 50%;z-index: -1;}#sk-container-id-7 div.sk-parallel-item {display: flex;flex-direction: column;z-index: 1;position: relative;background-color: white;}#sk-container-id-7 div.sk-parallel-item:first-child::after {align-self: flex-end;width: 50%;}#sk-container-id-7 div.sk-parallel-item:last-child::after {align-self: flex-start;width: 50%;}#sk-container-id-7 div.sk-parallel-item:only-child::after {width: 0;}#sk-container-id-7 div.sk-dashed-wrapped {border: 1px dashed gray;margin: 0 0.4em 0.5em 0.4em;box-sizing: border-box;padding-bottom: 0.4em;background-color: white;}#sk-container-id-7 div.sk-label label {font-family: monospace;font-weight: bold;display: inline-block;line-height: 1.2em;}#sk-container-id-7 div.sk-label-container {text-align: center;}#sk-container-id-7 div.sk-container {/* jupyter's `normalize.less` sets `[hidden] { display: none; }` but bootstrap.min.css set `[hidden] { display: none !important; }` so we also need the `!important` here to be able to override the default hidden behavior on the sphinx rendered scikit-learn.org. See: https://github.com/scikit-learn/scikit-learn/issues/21755 */display: inline-block !important;position: relative;}#sk-container-id-7 div.sk-text-repr-fallback {display: none;}</style><div id=\"sk-container-id-7\" class=\"sk-top-container\"><div class=\"sk-text-repr-fallback\"><pre>GridSearchCV(cv=KFold(n_splits=5, random_state=42, shuffle=True),\n",
              "             estimator=LinearRegression(), n_jobs=-1,\n",
              "             param_grid={&#x27;fit_intercept&#x27;: [True, False]},\n",
              "             scoring=&#x27;neg_mean_squared_error&#x27;)</pre><b>In a Jupyter environment, please rerun this cell to show the HTML representation or trust the notebook. <br />On GitHub, the HTML representation is unable to render, please try loading this page with nbviewer.org.</b></div><div class=\"sk-container\" hidden><div class=\"sk-item sk-dashed-wrapped\"><div class=\"sk-label-container\"><div class=\"sk-label sk-toggleable\"><input class=\"sk-toggleable__control sk-hidden--visually\" id=\"sk-estimator-id-19\" type=\"checkbox\" ><label for=\"sk-estimator-id-19\" class=\"sk-toggleable__label sk-toggleable__label-arrow\">GridSearchCV</label><div class=\"sk-toggleable__content\"><pre>GridSearchCV(cv=KFold(n_splits=5, random_state=42, shuffle=True),\n",
              "             estimator=LinearRegression(), n_jobs=-1,\n",
              "             param_grid={&#x27;fit_intercept&#x27;: [True, False]},\n",
              "             scoring=&#x27;neg_mean_squared_error&#x27;)</pre></div></div></div><div class=\"sk-parallel\"><div class=\"sk-parallel-item\"><div class=\"sk-item\"><div class=\"sk-label-container\"><div class=\"sk-label sk-toggleable\"><input class=\"sk-toggleable__control sk-hidden--visually\" id=\"sk-estimator-id-20\" type=\"checkbox\" ><label for=\"sk-estimator-id-20\" class=\"sk-toggleable__label sk-toggleable__label-arrow\">estimator: LinearRegression</label><div class=\"sk-toggleable__content\"><pre>LinearRegression()</pre></div></div></div><div class=\"sk-serial\"><div class=\"sk-item\"><div class=\"sk-estimator sk-toggleable\"><input class=\"sk-toggleable__control sk-hidden--visually\" id=\"sk-estimator-id-21\" type=\"checkbox\" ><label for=\"sk-estimator-id-21\" class=\"sk-toggleable__label sk-toggleable__label-arrow\">LinearRegression</label><div class=\"sk-toggleable__content\"><pre>LinearRegression()</pre></div></div></div></div></div></div></div></div></div></div>"
            ]
          },
          "metadata": {},
          "execution_count": 147
        }
      ]
    },
    {
      "cell_type": "code",
      "source": [
        "# Print the best hyperparameters\n",
        "print('Best hyperparameters:', grid_search.best_params_)"
      ],
      "metadata": {
        "colab": {
          "base_uri": "https://localhost:8080/"
        },
        "id": "XLs9BOc6C-kg",
        "outputId": "42eaafa9-0662-44ff-b673-8c5866d13acc"
      },
      "execution_count": null,
      "outputs": [
        {
          "output_type": "stream",
          "name": "stdout",
          "text": [
            "Best hyperparameters: {'fit_intercept': True}\n"
          ]
        }
      ]
    },
    {
      "cell_type": "code",
      "source": [
        "# Predict on the testing set\n",
        "y_pred = grid_search.predict(X_test)"
      ],
      "metadata": {
        "id": "QtxInWugC7gl"
      },
      "execution_count": null,
      "outputs": []
    },
    {
      "cell_type": "markdown",
      "source": [
        "#####RSME Calculation for Linear Regression\n",
        "\n",
        "\n"
      ],
      "metadata": {
        "id": "MZKWZmJ6DyGu"
      }
    },
    {
      "cell_type": "code",
      "source": [
        "# Calculate the mean squared error and R2 score\n",
        "mse = mean_squared_error(y_test, y_pred)\n",
        "r2 = r2_score(y_test, y_pred)"
      ],
      "metadata": {
        "id": "14eqAYpXsZiC"
      },
      "execution_count": null,
      "outputs": []
    },
    {
      "cell_type": "code",
      "source": [
        "# Print the results\n",
        "print('MSE:', mse)\n",
        "print('R2:', r2)"
      ],
      "metadata": {
        "colab": {
          "base_uri": "https://localhost:8080/"
        },
        "id": "s7LQd2Edurhf",
        "outputId": "ec026825-750e-47b3-eafb-6710e50d3f8a"
      },
      "execution_count": null,
      "outputs": [
        {
          "output_type": "stream",
          "name": "stdout",
          "text": [
            "MSE: 2043.0119810302242\n",
            "R2: 0.14819971517126374\n"
          ]
        }
      ]
    },
    {
      "cell_type": "markdown",
      "source": [
        "#### K-Nearest Neighbours"
      ],
      "metadata": {
        "id": "e1cdDAT_d3ct"
      }
    },
    {
      "cell_type": "code",
      "source": [
        "# Define the features and target variables\n",
        "#features = cancer_df.drop(['deathRate', 'countyCode', 'incidenceRate'], axis=1)\n",
        "#target_death = cancer_df['deathRate']\n",
        "#target_inc = cancer_df['incidenceRate']"
      ],
      "metadata": {
        "id": "ktN6H-msu2c5"
      },
      "execution_count": null,
      "outputs": []
    },
    {
      "cell_type": "code",
      "source": [
        "# Define the parameter grid to search over\n",
        "param_grid = {\n",
        "    'n_neighbors': [3, 5, 7, 10],\n",
        "    'weights': ['uniform', 'distance'],\n",
        "    'p': [1, 2],\n",
        "    'algorithm': ['ball_tree', 'kd_tree']}"
      ],
      "metadata": {
        "id": "QVLv3mJ1_QBz"
      },
      "execution_count": null,
      "outputs": []
    },
    {
      "cell_type": "code",
      "source": [
        "# Initialize the K-Nearest Neighbours models\n",
        "knn = KNeighborsRegressor(n_neighbors=5)\n",
        "#knn_inc = KNeighborsRegressor(n_neighbors=5)"
      ],
      "metadata": {
        "id": "as2BmsNJvAQ8"
      },
      "execution_count": null,
      "outputs": []
    },
    {
      "cell_type": "code",
      "source": [
        "# Initialize the RandomizedSearchCV objects\n",
        "from sklearn.model_selection import train_test_split, RandomizedSearchCV\n",
        "knn_cv = RandomizedSearchCV(knn, param_grid, cv=5, n_iter=10, random_state=42, n_jobs=-1)\n",
        "#knn_cv = RandomizedSearchCV(knn_inc, param_grid, cv=5, n_iter=10, random_state=42, n_jobs=-1)"
      ],
      "metadata": {
        "id": "0wnRJ3aX_bQ5"
      },
      "execution_count": null,
      "outputs": []
    },
    {
      "cell_type": "code",
      "source": [
        "# Fit the models to the training data using K-fold cross-validation\n",
        "knn_cv.fit(X_train, y_train)\n",
        "#knn_inc_cv.fit(X_train, y_inc_train)"
      ],
      "metadata": {
        "colab": {
          "base_uri": "https://localhost:8080/",
          "height": 115
        },
        "id": "6m95OC_ovEV2",
        "outputId": "b96fcf9f-d0e2-44a7-d365-2a3bb2826189"
      },
      "execution_count": null,
      "outputs": [
        {
          "output_type": "execute_result",
          "data": {
            "text/plain": [
              "RandomizedSearchCV(cv=5, estimator=KNeighborsRegressor(), n_jobs=-1,\n",
              "                   param_distributions={'algorithm': ['ball_tree', 'kd_tree'],\n",
              "                                        'n_neighbors': [3, 5, 7, 10],\n",
              "                                        'p': [1, 2],\n",
              "                                        'weights': ['uniform', 'distance']},\n",
              "                   random_state=42)"
            ],
            "text/html": [
              "<style>#sk-container-id-8 {color: black;background-color: white;}#sk-container-id-8 pre{padding: 0;}#sk-container-id-8 div.sk-toggleable {background-color: white;}#sk-container-id-8 label.sk-toggleable__label {cursor: pointer;display: block;width: 100%;margin-bottom: 0;padding: 0.3em;box-sizing: border-box;text-align: center;}#sk-container-id-8 label.sk-toggleable__label-arrow:before {content: \"▸\";float: left;margin-right: 0.25em;color: #696969;}#sk-container-id-8 label.sk-toggleable__label-arrow:hover:before {color: black;}#sk-container-id-8 div.sk-estimator:hover label.sk-toggleable__label-arrow:before {color: black;}#sk-container-id-8 div.sk-toggleable__content {max-height: 0;max-width: 0;overflow: hidden;text-align: left;background-color: #f0f8ff;}#sk-container-id-8 div.sk-toggleable__content pre {margin: 0.2em;color: black;border-radius: 0.25em;background-color: #f0f8ff;}#sk-container-id-8 input.sk-toggleable__control:checked~div.sk-toggleable__content {max-height: 200px;max-width: 100%;overflow: auto;}#sk-container-id-8 input.sk-toggleable__control:checked~label.sk-toggleable__label-arrow:before {content: \"▾\";}#sk-container-id-8 div.sk-estimator input.sk-toggleable__control:checked~label.sk-toggleable__label {background-color: #d4ebff;}#sk-container-id-8 div.sk-label input.sk-toggleable__control:checked~label.sk-toggleable__label {background-color: #d4ebff;}#sk-container-id-8 input.sk-hidden--visually {border: 0;clip: rect(1px 1px 1px 1px);clip: rect(1px, 1px, 1px, 1px);height: 1px;margin: -1px;overflow: hidden;padding: 0;position: absolute;width: 1px;}#sk-container-id-8 div.sk-estimator {font-family: monospace;background-color: #f0f8ff;border: 1px dotted black;border-radius: 0.25em;box-sizing: border-box;margin-bottom: 0.5em;}#sk-container-id-8 div.sk-estimator:hover {background-color: #d4ebff;}#sk-container-id-8 div.sk-parallel-item::after {content: \"\";width: 100%;border-bottom: 1px solid gray;flex-grow: 1;}#sk-container-id-8 div.sk-label:hover label.sk-toggleable__label {background-color: #d4ebff;}#sk-container-id-8 div.sk-serial::before {content: \"\";position: absolute;border-left: 1px solid gray;box-sizing: border-box;top: 0;bottom: 0;left: 50%;z-index: 0;}#sk-container-id-8 div.sk-serial {display: flex;flex-direction: column;align-items: center;background-color: white;padding-right: 0.2em;padding-left: 0.2em;position: relative;}#sk-container-id-8 div.sk-item {position: relative;z-index: 1;}#sk-container-id-8 div.sk-parallel {display: flex;align-items: stretch;justify-content: center;background-color: white;position: relative;}#sk-container-id-8 div.sk-item::before, #sk-container-id-8 div.sk-parallel-item::before {content: \"\";position: absolute;border-left: 1px solid gray;box-sizing: border-box;top: 0;bottom: 0;left: 50%;z-index: -1;}#sk-container-id-8 div.sk-parallel-item {display: flex;flex-direction: column;z-index: 1;position: relative;background-color: white;}#sk-container-id-8 div.sk-parallel-item:first-child::after {align-self: flex-end;width: 50%;}#sk-container-id-8 div.sk-parallel-item:last-child::after {align-self: flex-start;width: 50%;}#sk-container-id-8 div.sk-parallel-item:only-child::after {width: 0;}#sk-container-id-8 div.sk-dashed-wrapped {border: 1px dashed gray;margin: 0 0.4em 0.5em 0.4em;box-sizing: border-box;padding-bottom: 0.4em;background-color: white;}#sk-container-id-8 div.sk-label label {font-family: monospace;font-weight: bold;display: inline-block;line-height: 1.2em;}#sk-container-id-8 div.sk-label-container {text-align: center;}#sk-container-id-8 div.sk-container {/* jupyter's `normalize.less` sets `[hidden] { display: none; }` but bootstrap.min.css set `[hidden] { display: none !important; }` so we also need the `!important` here to be able to override the default hidden behavior on the sphinx rendered scikit-learn.org. See: https://github.com/scikit-learn/scikit-learn/issues/21755 */display: inline-block !important;position: relative;}#sk-container-id-8 div.sk-text-repr-fallback {display: none;}</style><div id=\"sk-container-id-8\" class=\"sk-top-container\"><div class=\"sk-text-repr-fallback\"><pre>RandomizedSearchCV(cv=5, estimator=KNeighborsRegressor(), n_jobs=-1,\n",
              "                   param_distributions={&#x27;algorithm&#x27;: [&#x27;ball_tree&#x27;, &#x27;kd_tree&#x27;],\n",
              "                                        &#x27;n_neighbors&#x27;: [3, 5, 7, 10],\n",
              "                                        &#x27;p&#x27;: [1, 2],\n",
              "                                        &#x27;weights&#x27;: [&#x27;uniform&#x27;, &#x27;distance&#x27;]},\n",
              "                   random_state=42)</pre><b>In a Jupyter environment, please rerun this cell to show the HTML representation or trust the notebook. <br />On GitHub, the HTML representation is unable to render, please try loading this page with nbviewer.org.</b></div><div class=\"sk-container\" hidden><div class=\"sk-item sk-dashed-wrapped\"><div class=\"sk-label-container\"><div class=\"sk-label sk-toggleable\"><input class=\"sk-toggleable__control sk-hidden--visually\" id=\"sk-estimator-id-22\" type=\"checkbox\" ><label for=\"sk-estimator-id-22\" class=\"sk-toggleable__label sk-toggleable__label-arrow\">RandomizedSearchCV</label><div class=\"sk-toggleable__content\"><pre>RandomizedSearchCV(cv=5, estimator=KNeighborsRegressor(), n_jobs=-1,\n",
              "                   param_distributions={&#x27;algorithm&#x27;: [&#x27;ball_tree&#x27;, &#x27;kd_tree&#x27;],\n",
              "                                        &#x27;n_neighbors&#x27;: [3, 5, 7, 10],\n",
              "                                        &#x27;p&#x27;: [1, 2],\n",
              "                                        &#x27;weights&#x27;: [&#x27;uniform&#x27;, &#x27;distance&#x27;]},\n",
              "                   random_state=42)</pre></div></div></div><div class=\"sk-parallel\"><div class=\"sk-parallel-item\"><div class=\"sk-item\"><div class=\"sk-label-container\"><div class=\"sk-label sk-toggleable\"><input class=\"sk-toggleable__control sk-hidden--visually\" id=\"sk-estimator-id-23\" type=\"checkbox\" ><label for=\"sk-estimator-id-23\" class=\"sk-toggleable__label sk-toggleable__label-arrow\">estimator: KNeighborsRegressor</label><div class=\"sk-toggleable__content\"><pre>KNeighborsRegressor()</pre></div></div></div><div class=\"sk-serial\"><div class=\"sk-item\"><div class=\"sk-estimator sk-toggleable\"><input class=\"sk-toggleable__control sk-hidden--visually\" id=\"sk-estimator-id-24\" type=\"checkbox\" ><label for=\"sk-estimator-id-24\" class=\"sk-toggleable__label sk-toggleable__label-arrow\">KNeighborsRegressor</label><div class=\"sk-toggleable__content\"><pre>KNeighborsRegressor()</pre></div></div></div></div></div></div></div></div></div></div>"
            ]
          },
          "metadata": {},
          "execution_count": 155
        }
      ]
    },
    {
      "cell_type": "code",
      "source": [
        "# Print the best hyperparameters for each model\n",
        "print('Best hyperparameters for death rate model:', knn_cv.best_params_)\n",
        "#print('Best hyperparameters for incidence rate model:', knn_inc_cv.best_params_)"
      ],
      "metadata": {
        "colab": {
          "base_uri": "https://localhost:8080/"
        },
        "id": "hYaf-BaHAQZd",
        "outputId": "32854315-25b3-4563-bbf4-2062a58e7ca2"
      },
      "execution_count": null,
      "outputs": [
        {
          "output_type": "stream",
          "name": "stdout",
          "text": [
            "Best hyperparameters for death rate model: {'weights': 'distance', 'p': 1, 'n_neighbors': 10, 'algorithm': 'kd_tree'}\n"
          ]
        }
      ]
    },
    {
      "cell_type": "code",
      "source": [
        "# Make predictions on the testing set using the best models\n",
        "y_pred = knn_cv.best_estimator_.predict(X_test)\n",
        "#y_inc_pred = knn_inc_cv.best_estimator_.predict(X_test)"
      ],
      "metadata": {
        "id": "CIXOy9HBvHaJ"
      },
      "execution_count": null,
      "outputs": []
    },
    {
      "cell_type": "markdown",
      "source": [
        "#####RSME Calculation for KNN"
      ],
      "metadata": {
        "id": "r57bSl-1AiU8"
      }
    },
    {
      "cell_type": "code",
      "source": [
        "# Calculate the root mean squared error (RMSE) of the best models\n",
        "rmse = mean_squared_error(y_test, y_pred, squared=False)\n",
        "#rmse_inc = mean_squared_error(y_inc_test, y_inc_pred, squared=False)"
      ],
      "metadata": {
        "id": "vVXnCAbFvTvk"
      },
      "execution_count": null,
      "outputs": []
    },
    {
      "cell_type": "code",
      "source": [
        "mse = mean_squared_error(y_test, y_pred)\n",
        "r2 = r2_score(y_test, y_pred)"
      ],
      "metadata": {
        "id": "-tZRnL_tRoIO"
      },
      "execution_count": null,
      "outputs": []
    },
    {
      "cell_type": "code",
      "source": [
        "# Print the RMSE scores\n",
        "print('KNN RMSE:', rmse)\n",
        "print('KNN R2:', r2)\n",
        "#print('KNN Incidence Rate RMSE:', rmse_inc)"
      ],
      "metadata": {
        "colab": {
          "base_uri": "https://localhost:8080/"
        },
        "id": "Y_up-3sdvXID",
        "outputId": "e86ae3cf-674a-40b3-ef85-806713295e4f"
      },
      "execution_count": null,
      "outputs": [
        {
          "output_type": "stream",
          "name": "stdout",
          "text": [
            "KNN RMSE: 41.43474579584809\n",
            "KNN R2: 0.15281438082076731\n"
          ]
        }
      ]
    },
    {
      "cell_type": "markdown",
      "source": [
        "#### Random Forest"
      ],
      "metadata": {
        "id": "0KyDZGtOd731"
      }
    },
    {
      "cell_type": "code",
      "source": [
        "# Define the features and target variables\n",
        "features = cancer_df.drop(['deathRate', 'countyCode', 'incidenceRate'], axis=1)\n",
        "target_death = cancer_df['deathRate']\n",
        "target_inc = cancer_df['incidenceRate']"
      ],
      "metadata": {
        "id": "CdjGGeK8eGTj"
      },
      "execution_count": null,
      "outputs": []
    },
    {
      "cell_type": "code",
      "source": [
        "# Spilt the dataset into training and test sets\n",
        "#X_train, X_test, y_death_train, y_death_test, y_inc_train, y_inc_test = train_test_split(features, target_death, target_inc, test_size=0.2, random_state=42)"
      ],
      "metadata": {
        "id": "RIfj-zN3cqwp"
      },
      "execution_count": null,
      "outputs": []
    },
    {
      "cell_type": "code",
      "source": [
        "# Define the parameter grid to search over\n",
        "param_grid = {\n",
        "    'n_estimators': [50, 100, 200],\n",
        "    'max_depth': [3, 5, 10, None],\n",
        "    'min_samples_split': [2, 5],\n",
        "    'min_samples_leaf': [1, 2],\n",
        "    'max_features': ['sqrt']}"
      ],
      "metadata": {
        "id": "sjdy92FKyzQp"
      },
      "execution_count": null,
      "outputs": []
    },
    {
      "cell_type": "code",
      "source": [
        "# Initialize the Random Forest models\n",
        "rf = RandomForestRegressor(n_estimators=100, random_state=42)\n",
        "#rf_inc = RandomForestRegressor(n_estimators=100, random_state=42)"
      ],
      "metadata": {
        "id": "d3DRdVAKxgje"
      },
      "execution_count": null,
      "outputs": []
    },
    {
      "cell_type": "code",
      "source": [
        "# Initialize the RandomizedSearchCV objects\n",
        "from sklearn.model_selection import train_test_split, RandomizedSearchCV\n",
        "from sklearn.ensemble import RandomForestRegressor\n",
        "\n",
        "rf_cv = RandomizedSearchCV(rf, param_grid, cv=5, n_iter=10, random_state=42)\n",
        "#rf_inc_cv = RandomizedSearchCV(rf_inc, param_grid, cv=5, n_iter=10, random_state=42)"
      ],
      "metadata": {
        "id": "ImhCIrDVy81Q"
      },
      "execution_count": null,
      "outputs": []
    },
    {
      "cell_type": "code",
      "source": [
        "# Fit the models to the training data using K-fold cross-validation\n",
        "rf_cv.fit(X_train, y_train)\n",
        "#rf_inc_cv.fit(X_train, y_inc_train)"
      ],
      "metadata": {
        "colab": {
          "base_uri": "https://localhost:8080/",
          "height": 115
        },
        "id": "0NLYbwP9xgbx",
        "outputId": "b2925dcf-240c-48ce-f811-caffad6b95db"
      },
      "execution_count": null,
      "outputs": [
        {
          "output_type": "execute_result",
          "data": {
            "text/plain": [
              "RandomizedSearchCV(cv=5, estimator=RandomForestRegressor(random_state=42),\n",
              "                   param_distributions={'max_depth': [3, 5, 10, None],\n",
              "                                        'max_features': ['sqrt'],\n",
              "                                        'min_samples_leaf': [1, 2],\n",
              "                                        'min_samples_split': [2, 5],\n",
              "                                        'n_estimators': [50, 100, 200]},\n",
              "                   random_state=42)"
            ],
            "text/html": [
              "<style>#sk-container-id-9 {color: black;background-color: white;}#sk-container-id-9 pre{padding: 0;}#sk-container-id-9 div.sk-toggleable {background-color: white;}#sk-container-id-9 label.sk-toggleable__label {cursor: pointer;display: block;width: 100%;margin-bottom: 0;padding: 0.3em;box-sizing: border-box;text-align: center;}#sk-container-id-9 label.sk-toggleable__label-arrow:before {content: \"▸\";float: left;margin-right: 0.25em;color: #696969;}#sk-container-id-9 label.sk-toggleable__label-arrow:hover:before {color: black;}#sk-container-id-9 div.sk-estimator:hover label.sk-toggleable__label-arrow:before {color: black;}#sk-container-id-9 div.sk-toggleable__content {max-height: 0;max-width: 0;overflow: hidden;text-align: left;background-color: #f0f8ff;}#sk-container-id-9 div.sk-toggleable__content pre {margin: 0.2em;color: black;border-radius: 0.25em;background-color: #f0f8ff;}#sk-container-id-9 input.sk-toggleable__control:checked~div.sk-toggleable__content {max-height: 200px;max-width: 100%;overflow: auto;}#sk-container-id-9 input.sk-toggleable__control:checked~label.sk-toggleable__label-arrow:before {content: \"▾\";}#sk-container-id-9 div.sk-estimator input.sk-toggleable__control:checked~label.sk-toggleable__label {background-color: #d4ebff;}#sk-container-id-9 div.sk-label input.sk-toggleable__control:checked~label.sk-toggleable__label {background-color: #d4ebff;}#sk-container-id-9 input.sk-hidden--visually {border: 0;clip: rect(1px 1px 1px 1px);clip: rect(1px, 1px, 1px, 1px);height: 1px;margin: -1px;overflow: hidden;padding: 0;position: absolute;width: 1px;}#sk-container-id-9 div.sk-estimator {font-family: monospace;background-color: #f0f8ff;border: 1px dotted black;border-radius: 0.25em;box-sizing: border-box;margin-bottom: 0.5em;}#sk-container-id-9 div.sk-estimator:hover {background-color: #d4ebff;}#sk-container-id-9 div.sk-parallel-item::after {content: \"\";width: 100%;border-bottom: 1px solid gray;flex-grow: 1;}#sk-container-id-9 div.sk-label:hover label.sk-toggleable__label {background-color: #d4ebff;}#sk-container-id-9 div.sk-serial::before {content: \"\";position: absolute;border-left: 1px solid gray;box-sizing: border-box;top: 0;bottom: 0;left: 50%;z-index: 0;}#sk-container-id-9 div.sk-serial {display: flex;flex-direction: column;align-items: center;background-color: white;padding-right: 0.2em;padding-left: 0.2em;position: relative;}#sk-container-id-9 div.sk-item {position: relative;z-index: 1;}#sk-container-id-9 div.sk-parallel {display: flex;align-items: stretch;justify-content: center;background-color: white;position: relative;}#sk-container-id-9 div.sk-item::before, #sk-container-id-9 div.sk-parallel-item::before {content: \"\";position: absolute;border-left: 1px solid gray;box-sizing: border-box;top: 0;bottom: 0;left: 50%;z-index: -1;}#sk-container-id-9 div.sk-parallel-item {display: flex;flex-direction: column;z-index: 1;position: relative;background-color: white;}#sk-container-id-9 div.sk-parallel-item:first-child::after {align-self: flex-end;width: 50%;}#sk-container-id-9 div.sk-parallel-item:last-child::after {align-self: flex-start;width: 50%;}#sk-container-id-9 div.sk-parallel-item:only-child::after {width: 0;}#sk-container-id-9 div.sk-dashed-wrapped {border: 1px dashed gray;margin: 0 0.4em 0.5em 0.4em;box-sizing: border-box;padding-bottom: 0.4em;background-color: white;}#sk-container-id-9 div.sk-label label {font-family: monospace;font-weight: bold;display: inline-block;line-height: 1.2em;}#sk-container-id-9 div.sk-label-container {text-align: center;}#sk-container-id-9 div.sk-container {/* jupyter's `normalize.less` sets `[hidden] { display: none; }` but bootstrap.min.css set `[hidden] { display: none !important; }` so we also need the `!important` here to be able to override the default hidden behavior on the sphinx rendered scikit-learn.org. See: https://github.com/scikit-learn/scikit-learn/issues/21755 */display: inline-block !important;position: relative;}#sk-container-id-9 div.sk-text-repr-fallback {display: none;}</style><div id=\"sk-container-id-9\" class=\"sk-top-container\"><div class=\"sk-text-repr-fallback\"><pre>RandomizedSearchCV(cv=5, estimator=RandomForestRegressor(random_state=42),\n",
              "                   param_distributions={&#x27;max_depth&#x27;: [3, 5, 10, None],\n",
              "                                        &#x27;max_features&#x27;: [&#x27;sqrt&#x27;],\n",
              "                                        &#x27;min_samples_leaf&#x27;: [1, 2],\n",
              "                                        &#x27;min_samples_split&#x27;: [2, 5],\n",
              "                                        &#x27;n_estimators&#x27;: [50, 100, 200]},\n",
              "                   random_state=42)</pre><b>In a Jupyter environment, please rerun this cell to show the HTML representation or trust the notebook. <br />On GitHub, the HTML representation is unable to render, please try loading this page with nbviewer.org.</b></div><div class=\"sk-container\" hidden><div class=\"sk-item sk-dashed-wrapped\"><div class=\"sk-label-container\"><div class=\"sk-label sk-toggleable\"><input class=\"sk-toggleable__control sk-hidden--visually\" id=\"sk-estimator-id-25\" type=\"checkbox\" ><label for=\"sk-estimator-id-25\" class=\"sk-toggleable__label sk-toggleable__label-arrow\">RandomizedSearchCV</label><div class=\"sk-toggleable__content\"><pre>RandomizedSearchCV(cv=5, estimator=RandomForestRegressor(random_state=42),\n",
              "                   param_distributions={&#x27;max_depth&#x27;: [3, 5, 10, None],\n",
              "                                        &#x27;max_features&#x27;: [&#x27;sqrt&#x27;],\n",
              "                                        &#x27;min_samples_leaf&#x27;: [1, 2],\n",
              "                                        &#x27;min_samples_split&#x27;: [2, 5],\n",
              "                                        &#x27;n_estimators&#x27;: [50, 100, 200]},\n",
              "                   random_state=42)</pre></div></div></div><div class=\"sk-parallel\"><div class=\"sk-parallel-item\"><div class=\"sk-item\"><div class=\"sk-label-container\"><div class=\"sk-label sk-toggleable\"><input class=\"sk-toggleable__control sk-hidden--visually\" id=\"sk-estimator-id-26\" type=\"checkbox\" ><label for=\"sk-estimator-id-26\" class=\"sk-toggleable__label sk-toggleable__label-arrow\">estimator: RandomForestRegressor</label><div class=\"sk-toggleable__content\"><pre>RandomForestRegressor(random_state=42)</pre></div></div></div><div class=\"sk-serial\"><div class=\"sk-item\"><div class=\"sk-estimator sk-toggleable\"><input class=\"sk-toggleable__control sk-hidden--visually\" id=\"sk-estimator-id-27\" type=\"checkbox\" ><label for=\"sk-estimator-id-27\" class=\"sk-toggleable__label sk-toggleable__label-arrow\">RandomForestRegressor</label><div class=\"sk-toggleable__content\"><pre>RandomForestRegressor(random_state=42)</pre></div></div></div></div></div></div></div></div></div></div>"
            ]
          },
          "metadata": {},
          "execution_count": 166
        }
      ]
    },
    {
      "cell_type": "code",
      "source": [
        "# Print the best hyperparameters for each model\n",
        "print('Best hyperparameters for death rate model:', rf_cv.best_params_)\n",
        "#print('Best hyperparameters for incidence rate model:', rf_inc_cv.best_params_)"
      ],
      "metadata": {
        "colab": {
          "base_uri": "https://localhost:8080/"
        },
        "id": "ZTNh5W7wzYPv",
        "outputId": "8250bf10-797b-4130-c35c-7cd8c7faff99"
      },
      "execution_count": null,
      "outputs": [
        {
          "output_type": "stream",
          "name": "stdout",
          "text": [
            "Best hyperparameters for death rate model: {'n_estimators': 100, 'min_samples_split': 2, 'min_samples_leaf': 1, 'max_features': 'sqrt', 'max_depth': None}\n"
          ]
        }
      ]
    },
    {
      "cell_type": "code",
      "source": [
        "# Make predictions on the testing set using the best models\n",
        "y_death_pred = rf_cv.best_estimator_.predict(X_test)\n",
        "#y_inc_pred = rf_inc_cv.best_estimator_.predict(X_test)"
      ],
      "metadata": {
        "id": "OVw7RvdrxgCB"
      },
      "execution_count": null,
      "outputs": []
    },
    {
      "cell_type": "markdown",
      "source": [
        "#####RSME Calculation for Random Forest"
      ],
      "metadata": {
        "id": "MOPWu632AoZ3"
      }
    },
    {
      "cell_type": "code",
      "source": [
        "# Calculate the root mean squared error (RMSE) of the best models\n",
        "rmse = mean_squared_error(y_test, y_death_pred, squared=False)\n",
        "#rmse_inc = mean_squared_error(y_inc_test, y_inc_pred, squared=False)"
      ],
      "metadata": {
        "id": "0q4UDqffxf1-"
      },
      "execution_count": null,
      "outputs": []
    },
    {
      "cell_type": "code",
      "source": [
        "mse = mean_squared_error(y_test, y_pred)\n",
        "r2 = r2_score(y_test, y_pred)"
      ],
      "metadata": {
        "id": "l6BKiaZ2RUJZ"
      },
      "execution_count": null,
      "outputs": []
    },
    {
      "cell_type": "code",
      "source": [
        "# Print the RMSE scores of the model\n",
        "print('Random Forest RMSE:', rmse)\n",
        "print('Random Forest R2:', r2)\n",
        "#print('Random Forest Incidence Rate RMSE:', rmse_inc)"
      ],
      "metadata": {
        "colab": {
          "base_uri": "https://localhost:8080/"
        },
        "id": "UZhl9H32x6kP",
        "outputId": "17eb8160-feeb-49fe-ba7f-cb559a6b6845"
      },
      "execution_count": null,
      "outputs": [
        {
          "output_type": "stream",
          "name": "stdout",
          "text": [
            "Random Forest RMSE: 35.98548369951093\n",
            "Random Forest R2: 0.15281438082076731\n"
          ]
        }
      ]
    },
    {
      "cell_type": "markdown",
      "source": [
        "###Comparison of Prediction Results for Each Model"
      ],
      "metadata": {
        "id": "JI85Hl__EJbo"
      }
    },
    {
      "cell_type": "markdown",
      "source": [
        "####Analysis"
      ],
      "metadata": {
        "id": "NTD_QISoEX4W"
      }
    },
    {
      "cell_type": "markdown",
      "source": [
        "To compare the prediction results of each model, we can use metrics such as mean squared error (MSE), root mean squared error (RMSE), and R2 score. The lower the MSE and RMSE and the higher the R2 score, the better the model's performance.\n",
        "\n",
        "Here are the performance metrics for each model:\n",
        "\n",
        "\n",
        "\n",
        ">\n",
        "\n",
        "\n",
        "\n",
        "\n",
        "> **Linear Regression Model:**\n",
        "* RMSE: 2043.0119810302242\n",
        "* R2: 0.14819971517126374\n",
        "\n",
        "\n",
        "> **K-Nearest Neighbours model:**\n",
        "* RMSE: 41.43474579584809\n",
        "* R2: 0.15281438082076731\n",
        "\n",
        "\n",
        "> **Random Forest model:**\n",
        "* RMSE: 35.98548369951093\n",
        "* R2: 0.15281438082076731\n"
      ],
      "metadata": {
        "id": "cO21RKznEf8c"
      }
    },
    {
      "cell_type": "markdown",
      "source": [
        "####Reccomendation"
      ],
      "metadata": {
        "id": "WChxSwagEbqw"
      }
    },
    {
      "cell_type": "markdown",
      "source": [
        "Based on these results, the **Random Forest model performed the best**, with the lowest MSE and RMSE for both incidence rate and death rate and the highest R2 score for death rate. However, it's worth noting that the KNN and Random Forest models had relatively similar performance, with the KNN model only slightly worse than the Random Forest model. The Linear Regression model performed the worst.\n",
        "\n",
        "Professionals should use the Random Forest model because it provides accurate predictions for both incidence rate and death rate. However, it's always a good idea to consider multiple models and compare their performance before making any decisions."
      ],
      "metadata": {
        "id": "vdFV15s0F_Qx"
      }
    }
  ]
}