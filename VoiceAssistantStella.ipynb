{
  "cells": [
    {
      "cell_type": "markdown",
      "metadata": {
        "id": "view-in-github",
        "colab_type": "text"
      },
      "source": [
        "<a href=\"https://colab.research.google.com/github/cdo7456/BusinessIntelligenceProjects/blob/main/VoiceAssistantStella.ipynb\" target=\"_parent\"><img src=\"https://colab.research.google.com/assets/colab-badge.svg\" alt=\"Open In Colab\"/></a>"
      ]
    },
    {
      "cell_type": "markdown",
      "id": "c0e4d563",
      "metadata": {
        "id": "c0e4d563"
      },
      "source": [
        "# Voice Assistant 'Stella' by Chimdi Okoye"
      ]
    },
    {
      "cell_type": "markdown",
      "id": "c3197723",
      "metadata": {
        "id": "c3197723"
      },
      "source": [
        "This code will create a simple voice assistant that can open Google, YouTube, and Spotify based on your voice command.\n",
        "\n",
        "Firstly, I imported the speech_recognition, webbrowser, wave, and os libraries. These libraries are used for speech recognition, opening websites in a web browser, saving audio files in WAV format, and removing files, respectively."
      ]
    },
    {
      "cell_type": "markdown",
      "id": "05f7b053",
      "metadata": {
        "id": "05f7b053"
      },
      "source": [
        "## Package Installations"
      ]
    },
    {
      "cell_type": "code",
      "execution_count": null,
      "id": "2ac30604",
      "metadata": {
        "id": "2ac30604",
        "outputId": "9a7db80e-a7e7-4086-d3aa-20766b1d3475"
      },
      "outputs": [
        {
          "name": "stdout",
          "output_type": "stream",
          "text": [
            "Requirement already satisfied: SpeechRecognition in /Users/chimdidaniellaokoye/myenv/lib/python3.11/site-packages (3.10.0)\n",
            "Requirement already satisfied: requests>=2.26.0 in /Users/chimdidaniellaokoye/myenv/lib/python3.11/site-packages (from SpeechRecognition) (2.29.0)\n",
            "Requirement already satisfied: charset-normalizer<4,>=2 in /Users/chimdidaniellaokoye/myenv/lib/python3.11/site-packages (from requests>=2.26.0->SpeechRecognition) (3.1.0)\n",
            "Requirement already satisfied: idna<4,>=2.5 in /Users/chimdidaniellaokoye/myenv/lib/python3.11/site-packages (from requests>=2.26.0->SpeechRecognition) (3.4)\n",
            "Requirement already satisfied: urllib3<1.27,>=1.21.1 in /Users/chimdidaniellaokoye/myenv/lib/python3.11/site-packages (from requests>=2.26.0->SpeechRecognition) (1.26.15)\n",
            "Requirement already satisfied: certifi>=2017.4.17 in /Users/chimdidaniellaokoye/myenv/lib/python3.11/site-packages (from requests>=2.26.0->SpeechRecognition) (2022.12.7)\n"
          ]
        }
      ],
      "source": [
        "# Install necessary packages into terminal\n",
        "!pip install SpeechRecognition"
      ]
    },
    {
      "cell_type": "code",
      "execution_count": null,
      "id": "019f75d1",
      "metadata": {
        "id": "019f75d1"
      },
      "outputs": [],
      "source": [
        "# Import the packages\n",
        "import speech_recognition as sr\n",
        "import webbrowser\n",
        "\n",
        "import wave\n",
        "import os\n",
        "import IPython.display as ipd\n",
        "import os"
      ]
    },
    {
      "cell_type": "markdown",
      "id": "f68f9afe",
      "metadata": {
        "id": "f68f9afe"
      },
      "source": [
        "I then installed a package manager called, 'Brew' to aid with the process of installing, managing, and updating of 'portaudio', which was the package needed to run the Voice Assistant code successfully.\n",
        "\n",
        "\n",
        "\n",
        "\n",
        "You will need to install Homebrew into your computer's terminal. To do this, insert this into your terminal:\n",
        "\n",
        "/bin/bash -c \"$(curl -fsSL https://raw.githubusercontent.com/Homebrew/install/HEAD/install.sh)\""
      ]
    },
    {
      "cell_type": "code",
      "execution_count": null,
      "id": "d433e124",
      "metadata": {
        "id": "d433e124",
        "outputId": "589f1f49-fc28-4dcd-b720-c2051209e983"
      },
      "outputs": [
        {
          "name": "stdout",
          "output_type": "stream",
          "text": [
            "\u001b[34m==>\u001b[0m \u001b[1mHomebrew is run entirely by unpaid volunteers. Please consider donating:\u001b[0m\n",
            "  \u001b[4mhttps://github.com/Homebrew/brew#donations\u001b[24m\n",
            "\n",
            "Updated 1 tap (homebrew/core).\n",
            "\u001b[34m==>\u001b[0m \u001b[1mNew Formulae\u001b[0m\n",
            "dtools\n"
          ]
        }
      ],
      "source": [
        "!brew update"
      ]
    },
    {
      "cell_type": "code",
      "execution_count": null,
      "id": "720b2392",
      "metadata": {
        "id": "720b2392",
        "outputId": "24ab6f23-705b-4b32-fb8b-9a944eff80e0"
      },
      "outputs": [
        {
          "name": "stdout",
          "output_type": "stream",
          "text": [
            "\u001b[33mWarning:\u001b[0m portaudio 19.7.0 is already installed and up-to-date.\r\n",
            "To reinstall 19.7.0, run:\r\n",
            "  brew reinstall portaudio\r\n"
          ]
        }
      ],
      "source": [
        "!brew install portaudio"
      ]
    },
    {
      "cell_type": "code",
      "execution_count": null,
      "id": "b9b49905",
      "metadata": {
        "id": "b9b49905",
        "outputId": "f2336ba8-ccef-45b8-ebb0-b8e20f367569"
      },
      "outputs": [
        {
          "name": "stdout",
          "output_type": "stream",
          "text": [
            "\u001b[33mWarning:\u001b[0m Already linked: /usr/local/Cellar/portaudio/19.7.0\r\n",
            "To relink, run:\r\n",
            "  brew unlink portaudio && brew link portaudio\r\n"
          ]
        }
      ],
      "source": [
        "!brew link --overwrite portaudio"
      ]
    },
    {
      "cell_type": "code",
      "execution_count": null,
      "id": "d03c0c9d",
      "metadata": {
        "id": "d03c0c9d",
        "outputId": "6e1fb713-e5fc-44c1-9c36-81fe12cdfdc0"
      },
      "outputs": [
        {
          "name": "stdout",
          "output_type": "stream",
          "text": [
            "Requirement already satisfied: pyaudio in /Users/chimdidaniellaokoye/myenv/lib/python3.11/site-packages (0.2.13)\r\n"
          ]
        }
      ],
      "source": [
        "!pip3 install pyaudio"
      ]
    },
    {
      "cell_type": "code",
      "execution_count": null,
      "id": "bfc664e3",
      "metadata": {
        "id": "bfc664e3",
        "outputId": "09986eb6-a9f7-4b0e-a76f-2490e2d3cb72"
      },
      "outputs": [
        {
          "name": "stdout",
          "output_type": "stream",
          "text": [
            "\u001b[33mWarning:\u001b[0m mpg123 1.31.3 is already installed and up-to-date.\r\n",
            "To reinstall 1.31.3, run:\r\n",
            "  brew reinstall mpg123\r\n"
          ]
        }
      ],
      "source": [
        "!brew install mpg123"
      ]
    },
    {
      "cell_type": "code",
      "execution_count": null,
      "id": "c0dca33a",
      "metadata": {
        "id": "c0dca33a",
        "outputId": "fe45c5e1-9d89-42d3-93d0-79912b286d4c"
      },
      "outputs": [
        {
          "name": "stdout",
          "output_type": "stream",
          "text": [
            "Requirement already satisfied: mpyg321 in /Users/chimdidaniellaokoye/myenv/lib/python3.11/site-packages (2.1.1)\r\n",
            "Requirement already satisfied: pexpect in /Users/chimdidaniellaokoye/myenv/lib/python3.11/site-packages (from mpyg321) (4.8.0)\r\n",
            "Requirement already satisfied: ptyprocess>=0.5 in /Users/chimdidaniellaokoye/myenv/lib/python3.11/site-packages (from pexpect->mpyg321) (0.7.0)\r\n"
          ]
        }
      ],
      "source": [
        "!pip3 install mpyg321"
      ]
    },
    {
      "cell_type": "code",
      "execution_count": null,
      "id": "cbe12f79",
      "metadata": {
        "id": "cbe12f79",
        "outputId": "40c47a86-95c8-4fba-840e-af03834434f5"
      },
      "outputs": [
        {
          "name": "stdout",
          "output_type": "stream",
          "text": [
            "Requirement already satisfied: gTTS in /Users/chimdidaniellaokoye/myenv/lib/python3.11/site-packages (2.3.1)\n",
            "Requirement already satisfied: requests<3,>=2.27 in /Users/chimdidaniellaokoye/myenv/lib/python3.11/site-packages (from gTTS) (2.29.0)\n",
            "Requirement already satisfied: click<8.2,>=7.1 in /Users/chimdidaniellaokoye/myenv/lib/python3.11/site-packages (from gTTS) (8.1.3)\n",
            "Requirement already satisfied: charset-normalizer<4,>=2 in /Users/chimdidaniellaokoye/myenv/lib/python3.11/site-packages (from requests<3,>=2.27->gTTS) (3.1.0)\n",
            "Requirement already satisfied: idna<4,>=2.5 in /Users/chimdidaniellaokoye/myenv/lib/python3.11/site-packages (from requests<3,>=2.27->gTTS) (3.4)\n",
            "Requirement already satisfied: urllib3<1.27,>=1.21.1 in /Users/chimdidaniellaokoye/myenv/lib/python3.11/site-packages (from requests<3,>=2.27->gTTS) (1.26.15)\n",
            "Requirement already satisfied: certifi>=2017.4.17 in /Users/chimdidaniellaokoye/myenv/lib/python3.11/site-packages (from requests<3,>=2.27->gTTS) (2022.12.7)\n"
          ]
        }
      ],
      "source": [
        "!pip install gTTS"
      ]
    },
    {
      "cell_type": "markdown",
      "id": "231a25ee",
      "metadata": {
        "id": "231a25ee"
      },
      "source": [
        "## Voice Assistant"
      ]
    },
    {
      "cell_type": "markdown",
      "id": "0d344b4a",
      "metadata": {
        "id": "0d344b4a"
      },
      "source": [
        "In order to run the code successfully, you must be using a macOS computer, preferrably. You must also enable and accept microphone access when prompted.\n",
        "\n",
        "Run ALL the code below, and you should hear Stella introduce herself and ask what she can help you with. Speak clearly into your microphone, you can use the following commands:\n",
        "1. \"Open Google...\"\n",
        "        This will open a new Chrome window\n",
        "2. \"Open YouTube...\"\n",
        "        This will open a new Chrome window, and open Google\n",
        "3. \"How are you?\"\n",
        "        This will prompt Stella to respond to your question\n",
        "4. \"What time is it?\"\n",
        "        This will prompt Stella to tell you the time\n",
        "        \n",
        "\n",
        "Stella may take a minute or two to respond, so please be patient with her. If she doesn't respond after an extended period of time, stop the runtime and begin the process again."
      ]
    },
    {
      "cell_type": "code",
      "execution_count": null,
      "id": "c51282b5",
      "metadata": {
        "id": "c51282b5"
      },
      "outputs": [],
      "source": [
        "# Import the necessary libraries\n",
        "import speech_recognition as sr\n",
        "from gtts import gTTS\n",
        "import webbrowser\n",
        "import wave\n",
        "import os\n",
        "import time\n",
        "import random\n",
        "\n",
        "# Define a chrome_path variablem which is the path to Google Chrome\n",
        "chrome_path = 'open -a /Applications/Google\\ Chrome.app %s'\n",
        "\n",
        "# Create a DigitalAssistant class with three main methods\n",
        "class DigitalAssistant():\n",
        "    def __init__(self):\n",
        "        self.listening = True # Flag to control the listening state\n",
        "    def listen(self): # the listen() method captures the user's speech using objects\n",
        "        r = sr.Recognizer()\n",
        "        with sr.Microphone() as source:\n",
        "            print(\"Listening...\")\n",
        "            audio = r.listen(source)\n",
        "        data = \"\"\n",
        "        try:\n",
        "            data = r.recognize_google(audio)\n",
        "            print(\"You said: \" + data)\n",
        "        except sr.UnknownValueError:\n",
        "            print(\"Cannot understand command\")\n",
        "        except sr.RequestError as e:\n",
        "            print(\"{Request Failed; {0}}\".formate(e))\n",
        "        return data\n",
        "\n",
        "    # Method to convert text to speech and play it out loud\n",
        "    def respond(self, audiostr):\n",
        "        print(audiostr)\n",
        "        tts = gTTS(text=audiostr, lang=\"en\")\n",
        "        tts.save(\"speech.mp3\")\n",
        "        os.system(\"mpg123 speech.mp3\")\n",
        "        #os.remove(\"speech.p=mp3\")\n",
        "\n",
        "    # Method to process recognized speech and perform desired actions\n",
        "    def digital_assistant(self, request):\n",
        "        if \"how are you\" in request:\n",
        "            res = [\"I am well\", \"I'm doing ok\", \"never been better\", \"thinking about space\"]\n",
        "            len_res = len(res)\n",
        "            i = random.randint(0, len_res)\n",
        "            txt = res[i]\n",
        "            self.listening = True\n",
        "            respond(txt)\n",
        "        if \"time\" in request:\n",
        "            self.listening = True\n",
        "            respond(time.ctime())\n",
        "        if \"google\" in request.lower():\n",
        "            self.listening = True\n",
        "            print(\"Opening google\")\n",
        "            url = \"https://www.google.com\"\n",
        "            webbrowser.get(chrome_path).open(url)\n",
        "        if \"youtube\" in request.lower():\n",
        "            self.listening = True\n",
        "            print(\"Opening YouTube\")\n",
        "            url = \"https://www.youtube.com\"\n",
        "            webbrowser.get(chrome_path).open(url)\n",
        "        if \"thank\" in request.lower():\n",
        "            self.listening = False\n",
        "            self.respond(\"You're welcome\")\n",
        "        return self.listening"
      ]
    },
    {
      "cell_type": "code",
      "execution_count": null,
      "id": "68dc6cd7",
      "metadata": {
        "id": "68dc6cd7",
        "outputId": "480c038a-c5a4-4ca0-e5a3-9d7d2f979931"
      },
      "outputs": [
        {
          "name": "stdout",
          "output_type": "stream",
          "text": [
            "Hi, I'm stella. How can I help?\n"
          ]
        },
        {
          "name": "stderr",
          "output_type": "stream",
          "text": [
            "High Performance MPEG 1.0/2.0/2.5 Audio Player for Layers 1, 2 and 3\n",
            "\tversion 1.31.3; written and copyright by Michael Hipp and others\n",
            "\tfree software (LGPL) without any warranty but with best wishes\n",
            "\n",
            "Playing MPEG stream 1 of 1: speech.mp3 ...\n",
            "\n",
            "MPEG 2.0 L III cbr32 24000 mono\n",
            "\n",
            "[0:02] Decoding of speech.mp3 finished.\n"
          ]
        },
        {
          "name": "stdout",
          "output_type": "stream",
          "text": [
            "Listening...\n",
            "You said: thank you\n",
            "You're welcome\n"
          ]
        },
        {
          "name": "stderr",
          "output_type": "stream",
          "text": [
            "High Performance MPEG 1.0/2.0/2.5 Audio Player for Layers 1, 2 and 3\n",
            "\tversion 1.31.3; written and copyright by Michael Hipp and others\n",
            "\tfree software (LGPL) without any warranty but with best wishes\n",
            "\n",
            "Playing MPEG stream 1 of 1: speech.mp3 ...\n",
            "\n",
            "MPEG 2.0 L III cbr32 24000 mono\n",
            "\n",
            "[0:01] Decoding of speech.mp3 finished.\n"
          ]
        }
      ],
      "source": [
        "stella = DigitalAssistant()\n",
        "time.sleep(2)\n",
        "stella.respond(\"Hi, I'm stella. How can I help?\")\n",
        "if __name__ == \"__main__\":\n",
        "    while stella.listening:\n",
        "        data = stella.listen()\n",
        "        listening = stella.digital_assistant(data)"
      ]
    }
  ],
  "metadata": {
    "kernelspec": {
      "display_name": "Python 3 (ipykernel)",
      "language": "python",
      "name": "python3"
    },
    "language_info": {
      "codemirror_mode": {
        "name": "ipython",
        "version": 3
      },
      "file_extension": ".py",
      "mimetype": "text/x-python",
      "name": "python",
      "nbconvert_exporter": "python",
      "pygments_lexer": "ipython3",
      "version": "3.11.3"
    },
    "colab": {
      "provenance": [],
      "include_colab_link": true
    }
  },
  "nbformat": 4,
  "nbformat_minor": 5
}